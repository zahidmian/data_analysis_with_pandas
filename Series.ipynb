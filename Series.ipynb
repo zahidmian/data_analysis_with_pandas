{
 "cells": [
  {
   "cell_type": "code",
   "execution_count": 8,
   "metadata": {
    "collapsed": true
   },
   "outputs": [],
   "source": [
    "import pandas as pd\n",
    "\n"
   ]
  },
  {
   "cell_type": "markdown",
   "source": [
    "# Series is kind of a mix of python list and dictionary\n",
    "\n",
    "## Generate Series from a list"
   ],
   "metadata": {
    "collapsed": false,
    "pycharm": {
     "name": "#%% md\n"
    }
   }
  },
  {
   "cell_type": "code",
   "execution_count": 4,
   "outputs": [
    {
     "data": {
      "text/plain": "0       Monday\n1      Tuesday\n2    Wednesday\n3     Thursday\n4       Friday\ndtype: object"
     },
     "execution_count": 4,
     "metadata": {},
     "output_type": "execute_result"
    }
   ],
   "source": [
    "weekdays = ['Monday', 'Tuesday', 'Wednesday', 'Thursday', 'Friday']\n",
    "# generates a Series object (index and value)\n",
    "# by default, index is zero-based value\n",
    "# dtype of object is string\n",
    "pd.Series(weekdays)\n"
   ],
   "metadata": {
    "collapsed": false,
    "pycharm": {
     "name": "#%%\n"
    }
   }
  },
  {
   "cell_type": "code",
   "execution_count": 5,
   "outputs": [
    {
     "data": {
      "text/plain": "0     1\n1     5\n2    65\n3    78\ndtype: int64"
     },
     "execution_count": 5,
     "metadata": {},
     "output_type": "execute_result"
    }
   ],
   "source": [
    "numbers = [1, 5, 65, 78]\n",
    "pd.Series(numbers)"
   ],
   "metadata": {
    "collapsed": false,
    "pycharm": {
     "name": "#%%\n"
    }
   }
  },
  {
   "cell_type": "code",
   "execution_count": 6,
   "outputs": [
    {
     "data": {
      "text/plain": "0     True\n1    False\n2     True\n3    False\n4     True\ndtype: bool"
     },
     "execution_count": 6,
     "metadata": {},
     "output_type": "execute_result"
    }
   ],
   "source": [
    "x = [True, False, True, False, True]\n",
    "pd.Series(x)"
   ],
   "metadata": {
    "collapsed": false,
    "pycharm": {
     "name": "#%%\n"
    }
   }
  },
  {
   "cell_type": "markdown",
   "source": [
    "## Generate Series from Dictionary"
   ],
   "metadata": {
    "collapsed": false,
    "pycharm": {
     "name": "#%% md\n"
    }
   }
  },
  {
   "cell_type": "code",
   "execution_count": 7,
   "outputs": [
    {
     "data": {
      "text/plain": "Mon    1223\nTue    3432\nWed    2213\ndtype: int64"
     },
     "execution_count": 7,
     "metadata": {},
     "output_type": "execute_result"
    }
   ],
   "source": [
    "d={\"Mon\": 1223, \"Tue\": 3432, \"Wed\": 2213}\n",
    "pd.Series(d)\n",
    "\n",
    "# notice the index is no longer numbers, but instead the keys of dict"
   ],
   "metadata": {
    "collapsed": false,
    "pycharm": {
     "name": "#%%\n"
    }
   }
  },
  {
   "cell_type": "markdown",
   "source": [
    "## Some Attributes\n"
   ],
   "metadata": {
    "collapsed": false,
    "pycharm": {
     "name": "#%% md\n"
    }
   }
  },
  {
   "cell_type": "code",
   "execution_count": 8,
   "outputs": [
    {
     "data": {
      "text/plain": "array(['Monday', 'Tuesday', 'Wednesday', 'Thursday', 'Friday'],\n      dtype=object)"
     },
     "execution_count": 8,
     "metadata": {},
     "output_type": "execute_result"
    }
   ],
   "source": [
    "weekdays = ['Monday', 'Tuesday', 'Wednesday', 'Thursday', 'Friday']\n",
    "s = pd.Series(weekdays)\n",
    "# returns an array of values\n",
    "s.values\n"
   ],
   "metadata": {
    "collapsed": false,
    "pycharm": {
     "name": "#%%\n"
    }
   }
  },
  {
   "cell_type": "code",
   "execution_count": 9,
   "outputs": [
    {
     "data": {
      "text/plain": "RangeIndex(start=0, stop=5, step=1)"
     },
     "execution_count": 9,
     "metadata": {},
     "output_type": "execute_result"
    }
   ],
   "source": [
    "# index is a range that starts at 0, ends at 5, and increments buy 1\n",
    "s.index\n"
   ],
   "metadata": {
    "collapsed": false,
    "pycharm": {
     "name": "#%%\n"
    }
   }
  },
  {
   "cell_type": "code",
   "execution_count": 10,
   "outputs": [
    {
     "data": {
      "text/plain": "dtype('O')"
     },
     "execution_count": 10,
     "metadata": {},
     "output_type": "execute_result"
    }
   ],
   "source": [
    "# dtype attribute\n",
    "# dtype('O') is short for Object\n",
    "s.dtype"
   ],
   "metadata": {
    "collapsed": false,
    "pycharm": {
     "name": "#%%\n"
    }
   }
  },
  {
   "cell_type": "code",
   "execution_count": 39,
   "outputs": [
    {
     "data": {
      "text/plain": "True"
     },
     "execution_count": 39,
     "metadata": {},
     "output_type": "execute_result"
    }
   ],
   "source": [
    "# returns whether all the values are unique\n",
    "s.is_unique"
   ],
   "metadata": {
    "collapsed": false,
    "pycharm": {
     "name": "#%%\n"
    }
   }
  },
  {
   "cell_type": "code",
   "execution_count": 40,
   "outputs": [
    {
     "data": {
      "text/plain": "1"
     },
     "execution_count": 40,
     "metadata": {},
     "output_type": "execute_result"
    }
   ],
   "source": [
    "# dimensions\n",
    "s.ndim"
   ],
   "metadata": {
    "collapsed": false,
    "pycharm": {
     "name": "#%%\n"
    }
   }
  },
  {
   "cell_type": "code",
   "execution_count": 41,
   "outputs": [
    {
     "data": {
      "text/plain": "(800,)"
     },
     "execution_count": 41,
     "metadata": {},
     "output_type": "execute_result"
    }
   ],
   "source": [
    "# get rows, columns\n",
    "s.shape"
   ],
   "metadata": {
    "collapsed": false,
    "pycharm": {
     "name": "#%%\n"
    }
   }
  },
  {
   "cell_type": "code",
   "execution_count": 42,
   "outputs": [
    {
     "data": {
      "text/plain": "800"
     },
     "execution_count": 42,
     "metadata": {},
     "output_type": "execute_result"
    }
   ],
   "source": [
    "# get size of series\n",
    "s.size"
   ],
   "metadata": {
    "collapsed": false,
    "pycharm": {
     "name": "#%%\n"
    }
   }
  },
  {
   "cell_type": "code",
   "execution_count": 44,
   "outputs": [
    {
     "data": {
      "text/plain": "'MyName'"
     },
     "execution_count": 44,
     "metadata": {},
     "output_type": "execute_result"
    }
   ],
   "source": [
    "# get name of series\n",
    "s.name = 'MyName'\n",
    "s.name"
   ],
   "metadata": {
    "collapsed": false,
    "pycharm": {
     "name": "#%%\n"
    }
   }
  },
  {
   "cell_type": "markdown",
   "source": [
    "## Some methods\n"
   ],
   "metadata": {
    "collapsed": false,
    "pycharm": {
     "name": "#%% md\n"
    }
   }
  },
  {
   "cell_type": "code",
   "execution_count": 13,
   "outputs": [
    {
     "data": {
      "text/plain": "0    1.45\n1    2.42\n2    2.55\ndtype: float64"
     },
     "execution_count": 13,
     "metadata": {},
     "output_type": "execute_result"
    }
   ],
   "source": [
    "prices = [1.45, 2.42, 2.55, 3.14, 5.33]\n",
    "s = pd.Series(prices)\n",
    "s"
   ],
   "metadata": {
    "collapsed": false,
    "pycharm": {
     "name": "#%%\n"
    }
   }
  },
  {
   "cell_type": "code",
   "execution_count": 14,
   "outputs": [
    {
     "data": {
      "text/plain": "6.42"
     },
     "execution_count": 14,
     "metadata": {},
     "output_type": "execute_result"
    }
   ],
   "source": [
    "# get sum of all values in series\n",
    "s.sum()"
   ],
   "metadata": {
    "collapsed": false,
    "pycharm": {
     "name": "#%%\n"
    }
   }
  },
  {
   "cell_type": "code",
   "execution_count": 15,
   "outputs": [
    {
     "data": {
      "text/plain": "8.947949999999999"
     },
     "execution_count": 15,
     "metadata": {},
     "output_type": "execute_result"
    }
   ],
   "source": [
    "# get a product of all values\n",
    "s.product()"
   ],
   "metadata": {
    "collapsed": false,
    "pycharm": {
     "name": "#%%\n"
    }
   }
  },
  {
   "cell_type": "code",
   "execution_count": 16,
   "outputs": [
    {
     "data": {
      "text/plain": "2.14"
     },
     "execution_count": 16,
     "metadata": {},
     "output_type": "execute_result"
    }
   ],
   "source": [
    "# get average of all values\n",
    "s.mean()"
   ],
   "metadata": {
    "collapsed": false,
    "pycharm": {
     "name": "#%%\n"
    }
   }
  },
  {
   "cell_type": "code",
   "execution_count": 17,
   "outputs": [
    {
     "data": {
      "text/plain": "2.42"
     },
     "execution_count": 17,
     "metadata": {},
     "output_type": "execute_result"
    }
   ],
   "source": [
    "# get median of all values\n",
    "s.median()\n"
   ],
   "metadata": {
    "collapsed": false,
    "pycharm": {
     "name": "#%%\n"
    }
   }
  },
  {
   "cell_type": "code",
   "execution_count": 18,
   "outputs": [
    {
     "data": {
      "text/plain": "Monday       1.45\nTuesday      2.42\nWednesday    2.55\nThursday     3.14\nFriday       5.33\nName: Price, dtype: float64"
     },
     "execution_count": 18,
     "metadata": {},
     "output_type": "execute_result"
    }
   ],
   "source": [
    "# A more complete example\n",
    "weekdays = ['Monday', 'Tuesday', 'Wednesday', 'Thursday', 'Friday']\n",
    "data = [1.45, 2.42, 2.55, 3.14, 5.33]\n",
    "s = pd.Series(data=data, index=weekdays, dtype=float, name=\"Price\")\n",
    "s"
   ],
   "metadata": {
    "collapsed": false,
    "pycharm": {
     "name": "#%%\n"
    }
   }
  },
  {
   "cell_type": "markdown",
   "source": [
    "## Read csv"
   ],
   "metadata": {
    "collapsed": false,
    "pycharm": {
     "name": "#%% md\n"
    }
   }
  },
  {
   "cell_type": "code",
   "execution_count": 20,
   "outputs": [
    {
     "data": {
      "text/plain": "0                  Bulbasaur\n1                    Ivysaur\n2                   Venusaur\n3      VenusaurMega Venusaur\n4                 Charmander\n               ...          \n795                  Diancie\n796      DiancieMega Diancie\n797      HoopaHoopa Confined\n798       HoopaHoopa Unbound\n799                Volcanion\nName: Name, Length: 800, dtype: object"
     },
     "execution_count": 20,
     "metadata": {},
     "output_type": "execute_result"
    }
   ],
   "source": [
    "# use read_csv to import data and use the column as a Series\n",
    "s = pd.read_csv(\"data/pokemon.csv\", usecols=['Name'], squeeze=True)\n",
    "s"
   ],
   "metadata": {
    "collapsed": false,
    "pycharm": {
     "name": "#%%\n"
    }
   }
  },
  {
   "cell_type": "code",
   "execution_count": 22,
   "outputs": [
    {
     "data": {
      "text/plain": "0        50.12\n1        54.10\n2        54.65\n3        52.38\n4        52.95\n         ...  \n3007    772.88\n3008    771.07\n3009    773.18\n3010    771.61\n3011    782.22\nName: Stock Price, Length: 3012, dtype: float64"
     },
     "execution_count": 22,
     "metadata": {},
     "output_type": "execute_result"
    }
   ],
   "source": [
    "s = pd.read_csv('data/google_stock_price.csv', squeeze=True)\n",
    "s\n"
   ],
   "metadata": {
    "collapsed": false,
    "pycharm": {
     "name": "#%%\n"
    }
   }
  },
  {
   "cell_type": "code",
   "execution_count": 26,
   "outputs": [
    {
     "data": {
      "text/plain": "0    50.12\n1    54.10\n2    54.65\n3    52.38\n4    52.95\nName: Stock Price, dtype: float64"
     },
     "execution_count": 26,
     "metadata": {},
     "output_type": "execute_result"
    }
   ],
   "source": [
    "# return a new series with the first 5 rows\n",
    "s.head()"
   ],
   "metadata": {
    "collapsed": false,
    "pycharm": {
     "name": "#%%\n"
    }
   }
  },
  {
   "cell_type": "code",
   "execution_count": 27,
   "outputs": [
    {
     "data": {
      "text/plain": "3004    741.77\n3005    745.91\n3006    768.79\n3007    772.88\n3008    771.07\n3009    773.18\n3010    771.61\n3011    782.22\nName: Stock Price, dtype: float64"
     },
     "execution_count": 27,
     "metadata": {},
     "output_type": "execute_result"
    }
   ],
   "source": [
    "# return a new series with last 8 rows\n",
    "s.tail(8)"
   ],
   "metadata": {
    "collapsed": false,
    "pycharm": {
     "name": "#%%\n"
    }
   }
  },
  {
   "cell_type": "code",
   "execution_count": 28,
   "outputs": [
    {
     "data": {
      "text/plain": "765.92875"
     },
     "execution_count": 28,
     "metadata": {},
     "output_type": "execute_result"
    }
   ],
   "source": [
    "# get the mean of last 8 values\n",
    "s.tail(8).mean()\n"
   ],
   "metadata": {
    "collapsed": false,
    "pycharm": {
     "name": "#%%\n"
    }
   }
  },
  {
   "cell_type": "markdown",
   "source": [
    "## inertaction with python functions"
   ],
   "metadata": {
    "collapsed": false,
    "pycharm": {
     "name": "#%% md\n"
    }
   }
  },
  {
   "cell_type": "code",
   "execution_count": 32,
   "outputs": [
    {
     "data": {
      "text/plain": "pandas.core.series.Series"
     },
     "execution_count": 32,
     "metadata": {},
     "output_type": "execute_result"
    }
   ],
   "source": [
    "s = pd.read_csv(\"data/pokemon.csv\", usecols=['Name'], squeeze=True)\n",
    "# get type\n",
    "type(s)"
   ],
   "metadata": {
    "collapsed": false,
    "pycharm": {
     "name": "#%%\n"
    }
   }
  },
  {
   "cell_type": "code",
   "execution_count": 33,
   "outputs": [
    {
     "data": {
      "text/plain": "800"
     },
     "execution_count": 33,
     "metadata": {},
     "output_type": "execute_result"
    }
   ],
   "source": [
    "# get length of series\n",
    "len(s)"
   ],
   "metadata": {
    "collapsed": false,
    "pycharm": {
     "name": "#%%\n"
    }
   }
  },
  {
   "cell_type": "code",
   "execution_count": 31,
   "outputs": [
    {
     "data": {
      "text/plain": "['T',\n '_AXIS_ALIASES',\n '_AXIS_IALIASES',\n '_AXIS_LEN',\n '_AXIS_NAMES',\n '_AXIS_NUMBERS',\n '_AXIS_ORDERS',\n '_AXIS_REVERSED',\n '_HANDLED_TYPES',\n '__abs__',\n '__add__',\n '__and__',\n '__annotations__',\n '__array__',\n '__array_priority__',\n '__array_ufunc__',\n '__array_wrap__',\n '__bool__',\n '__class__',\n '__contains__',\n '__copy__',\n '__deepcopy__',\n '__delattr__',\n '__delitem__',\n '__dict__',\n '__dir__',\n '__div__',\n '__divmod__',\n '__doc__',\n '__eq__',\n '__finalize__',\n '__float__',\n '__floordiv__',\n '__format__',\n '__ge__',\n '__getattr__',\n '__getattribute__',\n '__getitem__',\n '__getstate__',\n '__gt__',\n '__hash__',\n '__iadd__',\n '__iand__',\n '__ifloordiv__',\n '__imod__',\n '__imul__',\n '__init__',\n '__init_subclass__',\n '__int__',\n '__invert__',\n '__ior__',\n '__ipow__',\n '__isub__',\n '__iter__',\n '__itruediv__',\n '__ixor__',\n '__le__',\n '__len__',\n '__long__',\n '__lt__',\n '__matmul__',\n '__mod__',\n '__module__',\n '__mul__',\n '__ne__',\n '__neg__',\n '__new__',\n '__nonzero__',\n '__or__',\n '__pos__',\n '__pow__',\n '__radd__',\n '__rand__',\n '__rdiv__',\n '__rdivmod__',\n '__reduce__',\n '__reduce_ex__',\n '__repr__',\n '__rfloordiv__',\n '__rmatmul__',\n '__rmod__',\n '__rmul__',\n '__ror__',\n '__round__',\n '__rpow__',\n '__rsub__',\n '__rtruediv__',\n '__rxor__',\n '__setattr__',\n '__setitem__',\n '__setstate__',\n '__sizeof__',\n '__str__',\n '__sub__',\n '__subclasshook__',\n '__truediv__',\n '__weakref__',\n '__xor__',\n '_accessors',\n '_add_numeric_operations',\n '_add_series_or_dataframe_operations',\n '_agg_by_level',\n '_agg_examples_doc',\n '_agg_see_also_doc',\n '_aggregate',\n '_aggregate_multiple_funcs',\n '_align_frame',\n '_align_series',\n '_binop',\n '_box_item_values',\n '_builtin_table',\n '_can_hold_na',\n '_check_inplace_setting',\n '_check_is_chained_assignment_possible',\n '_check_label_or_level_ambiguity',\n '_check_setitem_copy',\n '_clear_item_cache',\n '_clip_with_one_bound',\n '_clip_with_scalar',\n '_consolidate',\n '_consolidate_inplace',\n '_construct_axes_dict',\n '_construct_axes_dict_from',\n '_construct_axes_from_arguments',\n '_constructor',\n '_constructor_expanddim',\n '_constructor_sliced',\n '_convert',\n '_convert_dtypes',\n '_create_indexer',\n '_cython_table',\n '_deprecations',\n '_dir_additions',\n '_dir_deletions',\n '_drop_axis',\n '_drop_labels_or_levels',\n '_find_valid_index',\n '_from_axes',\n '_get_axis',\n '_get_axis_name',\n '_get_axis_number',\n '_get_axis_resolvers',\n '_get_block_manager_axis',\n '_get_bool_data',\n '_get_cacher',\n '_get_cleaned_column_resolvers',\n '_get_cython_func',\n '_get_index_resolvers',\n '_get_item_cache',\n '_get_label_or_level_values',\n '_get_numeric_data',\n '_get_value',\n '_get_values',\n '_get_values_tuple',\n '_get_with',\n '_gotitem',\n '_iget_item_cache',\n '_index',\n '_indexed_same',\n '_info_axis',\n '_info_axis_name',\n '_info_axis_number',\n '_init_dict',\n '_init_mgr',\n '_internal_get_values',\n '_internal_names',\n '_internal_names_set',\n '_is_builtin_func',\n '_is_cached',\n '_is_copy',\n '_is_datelike_mixed_type',\n '_is_label_or_level_reference',\n '_is_label_reference',\n '_is_level_reference',\n '_is_mixed_type',\n '_is_numeric_mixed_type',\n '_is_view',\n '_ix',\n '_ixs',\n '_map_values',\n '_maybe_cache_changed',\n '_maybe_update_cacher',\n '_metadata',\n '_ndarray_values',\n '_needs_reindex_multi',\n '_obj_with_exclusions',\n '_protect_consolidate',\n '_reduce',\n '_reindex_axes',\n '_reindex_indexer',\n '_reindex_multi',\n '_reindex_with_indexers',\n '_repr_data_resource_',\n '_repr_latex_',\n '_reset_cache',\n '_reset_cacher',\n '_selected_obj',\n '_selection',\n '_selection_list',\n '_selection_name',\n '_set_as_cached',\n '_set_axis',\n '_set_axis_name',\n '_set_is_copy',\n '_set_item',\n '_set_labels',\n '_set_name',\n '_set_subtyp',\n '_set_value',\n '_set_values',\n '_set_with',\n '_set_with_engine',\n '_setup_axes',\n '_slice',\n '_stat_axis',\n '_stat_axis_name',\n '_stat_axis_number',\n '_take_with_is_copy',\n '_to_dict_of_blocks',\n '_try_aggregate_string_function',\n '_typ',\n '_unpickle_series_compat',\n '_update_inplace',\n '_validate_dtype',\n '_values',\n '_where',\n '_xs',\n 'abs',\n 'add',\n 'add_prefix',\n 'add_suffix',\n 'agg',\n 'aggregate',\n 'align',\n 'all',\n 'any',\n 'append',\n 'apply',\n 'argmax',\n 'argmin',\n 'argsort',\n 'array',\n 'asfreq',\n 'asof',\n 'astype',\n 'at',\n 'at_time',\n 'attrs',\n 'autocorr',\n 'axes',\n 'between',\n 'between_time',\n 'bfill',\n 'bool',\n 'clip',\n 'combine',\n 'combine_first',\n 'convert_dtypes',\n 'copy',\n 'corr',\n 'count',\n 'cov',\n 'cummax',\n 'cummin',\n 'cumprod',\n 'cumsum',\n 'describe',\n 'diff',\n 'div',\n 'divide',\n 'divmod',\n 'dot',\n 'drop',\n 'drop_duplicates',\n 'droplevel',\n 'dropna',\n 'dtype',\n 'dtypes',\n 'duplicated',\n 'empty',\n 'eq',\n 'equals',\n 'ewm',\n 'expanding',\n 'explode',\n 'factorize',\n 'ffill',\n 'fillna',\n 'filter',\n 'first',\n 'first_valid_index',\n 'floordiv',\n 'ge',\n 'get',\n 'groupby',\n 'gt',\n 'hasnans',\n 'head',\n 'hist',\n 'iat',\n 'idxmax',\n 'idxmin',\n 'iloc',\n 'index',\n 'infer_objects',\n 'interpolate',\n 'is_monotonic',\n 'is_monotonic_decreasing',\n 'is_monotonic_increasing',\n 'is_unique',\n 'isin',\n 'isna',\n 'isnull',\n 'item',\n 'items',\n 'iteritems',\n 'keys',\n 'kurt',\n 'kurtosis',\n 'last',\n 'last_valid_index',\n 'le',\n 'loc',\n 'lt',\n 'mad',\n 'map',\n 'mask',\n 'max',\n 'mean',\n 'median',\n 'memory_usage',\n 'min',\n 'mod',\n 'mode',\n 'mul',\n 'multiply',\n 'name',\n 'nbytes',\n 'ndim',\n 'ne',\n 'nlargest',\n 'notna',\n 'notnull',\n 'nsmallest',\n 'nunique',\n 'pct_change',\n 'pipe',\n 'plot',\n 'pop',\n 'pow',\n 'prod',\n 'product',\n 'quantile',\n 'radd',\n 'rank',\n 'ravel',\n 'rdiv',\n 'rdivmod',\n 'reindex',\n 'reindex_like',\n 'rename',\n 'rename_axis',\n 'reorder_levels',\n 'repeat',\n 'replace',\n 'resample',\n 'reset_index',\n 'rfloordiv',\n 'rmod',\n 'rmul',\n 'rolling',\n 'round',\n 'rpow',\n 'rsub',\n 'rtruediv',\n 'sample',\n 'searchsorted',\n 'sem',\n 'set_axis',\n 'shape',\n 'shift',\n 'size',\n 'skew',\n 'slice_shift',\n 'sort_index',\n 'sort_values',\n 'squeeze',\n 'std',\n 'str',\n 'sub',\n 'subtract',\n 'sum',\n 'swapaxes',\n 'swaplevel',\n 'tail',\n 'take',\n 'to_clipboard',\n 'to_csv',\n 'to_dict',\n 'to_excel',\n 'to_frame',\n 'to_hdf',\n 'to_json',\n 'to_latex',\n 'to_list',\n 'to_markdown',\n 'to_numpy',\n 'to_period',\n 'to_pickle',\n 'to_sql',\n 'to_string',\n 'to_timestamp',\n 'to_xarray',\n 'transform',\n 'transpose',\n 'truediv',\n 'truncate',\n 'tshift',\n 'tz_convert',\n 'tz_localize',\n 'unique',\n 'unstack',\n 'update',\n 'value_counts',\n 'values',\n 'var',\n 'view',\n 'where',\n 'xs']"
     },
     "execution_count": 31,
     "metadata": {},
     "output_type": "execute_result"
    }
   ],
   "source": [
    "# use dir method to get all attributes of object\n",
    "dir(s)"
   ],
   "metadata": {
    "collapsed": false,
    "pycharm": {
     "name": "#%%\n"
    }
   }
  },
  {
   "cell_type": "code",
   "execution_count": 34,
   "outputs": [
    {
     "data": {
      "text/plain": "{0: 'Bulbasaur',\n 1: 'Ivysaur',\n 2: 'Venusaur',\n 3: 'VenusaurMega Venusaur',\n 4: 'Charmander',\n 5: 'Charmeleon',\n 6: 'Charizard',\n 7: 'CharizardMega Charizard X',\n 8: 'CharizardMega Charizard Y',\n 9: 'Squirtle',\n 10: 'Wartortle',\n 11: 'Blastoise',\n 12: 'BlastoiseMega Blastoise',\n 13: 'Caterpie',\n 14: 'Metapod',\n 15: 'Butterfree',\n 16: 'Weedle',\n 17: 'Kakuna',\n 18: 'Beedrill',\n 19: 'BeedrillMega Beedrill',\n 20: 'Pidgey',\n 21: 'Pidgeotto',\n 22: 'Pidgeot',\n 23: 'PidgeotMega Pidgeot',\n 24: 'Rattata',\n 25: 'Raticate',\n 26: 'Spearow',\n 27: 'Fearow',\n 28: 'Ekans',\n 29: 'Arbok',\n 30: 'Pikachu',\n 31: 'Raichu',\n 32: 'Sandshrew',\n 33: 'Sandslash',\n 34: 'Nidoran♀',\n 35: 'Nidorina',\n 36: 'Nidoqueen',\n 37: 'Nidoran♂',\n 38: 'Nidorino',\n 39: 'Nidoking',\n 40: 'Clefairy',\n 41: 'Clefable',\n 42: 'Vulpix',\n 43: 'Ninetales',\n 44: 'Jigglypuff',\n 45: 'Wigglytuff',\n 46: 'Zubat',\n 47: 'Golbat',\n 48: 'Oddish',\n 49: 'Gloom',\n 50: 'Vileplume',\n 51: 'Paras',\n 52: 'Parasect',\n 53: 'Venonat',\n 54: 'Venomoth',\n 55: 'Diglett',\n 56: 'Dugtrio',\n 57: 'Meowth',\n 58: 'Persian',\n 59: 'Psyduck',\n 60: 'Golduck',\n 61: 'Mankey',\n 62: 'Primeape',\n 63: 'Growlithe',\n 64: 'Arcanine',\n 65: 'Poliwag',\n 66: 'Poliwhirl',\n 67: 'Poliwrath',\n 68: 'Abra',\n 69: 'Kadabra',\n 70: 'Alakazam',\n 71: 'AlakazamMega Alakazam',\n 72: 'Machop',\n 73: 'Machoke',\n 74: 'Machamp',\n 75: 'Bellsprout',\n 76: 'Weepinbell',\n 77: 'Victreebel',\n 78: 'Tentacool',\n 79: 'Tentacruel',\n 80: 'Geodude',\n 81: 'Graveler',\n 82: 'Golem',\n 83: 'Ponyta',\n 84: 'Rapidash',\n 85: 'Slowpoke',\n 86: 'Slowbro',\n 87: 'SlowbroMega Slowbro',\n 88: 'Magnemite',\n 89: 'Magneton',\n 90: \"Farfetch'd\",\n 91: 'Doduo',\n 92: 'Dodrio',\n 93: 'Seel',\n 94: 'Dewgong',\n 95: 'Grimer',\n 96: 'Muk',\n 97: 'Shellder',\n 98: 'Cloyster',\n 99: 'Gastly',\n 100: 'Haunter',\n 101: 'Gengar',\n 102: 'GengarMega Gengar',\n 103: 'Onix',\n 104: 'Drowzee',\n 105: 'Hypno',\n 106: 'Krabby',\n 107: 'Kingler',\n 108: 'Voltorb',\n 109: 'Electrode',\n 110: 'Exeggcute',\n 111: 'Exeggutor',\n 112: 'Cubone',\n 113: 'Marowak',\n 114: 'Hitmonlee',\n 115: 'Hitmonchan',\n 116: 'Lickitung',\n 117: 'Koffing',\n 118: 'Weezing',\n 119: 'Rhyhorn',\n 120: 'Rhydon',\n 121: 'Chansey',\n 122: 'Tangela',\n 123: 'Kangaskhan',\n 124: 'KangaskhanMega Kangaskhan',\n 125: 'Horsea',\n 126: 'Seadra',\n 127: 'Goldeen',\n 128: 'Seaking',\n 129: 'Staryu',\n 130: 'Starmie',\n 131: 'Mr. Mime',\n 132: 'Scyther',\n 133: 'Jynx',\n 134: 'Electabuzz',\n 135: 'Magmar',\n 136: 'Pinsir',\n 137: 'PinsirMega Pinsir',\n 138: 'Tauros',\n 139: 'Magikarp',\n 140: 'Gyarados',\n 141: 'GyaradosMega Gyarados',\n 142: 'Lapras',\n 143: 'Ditto',\n 144: 'Eevee',\n 145: 'Vaporeon',\n 146: 'Jolteon',\n 147: 'Flareon',\n 148: 'Porygon',\n 149: 'Omanyte',\n 150: 'Omastar',\n 151: 'Kabuto',\n 152: 'Kabutops',\n 153: 'Aerodactyl',\n 154: 'AerodactylMega Aerodactyl',\n 155: 'Snorlax',\n 156: 'Articuno',\n 157: 'Zapdos',\n 158: 'Moltres',\n 159: 'Dratini',\n 160: 'Dragonair',\n 161: 'Dragonite',\n 162: 'Mewtwo',\n 163: 'MewtwoMega Mewtwo X',\n 164: 'MewtwoMega Mewtwo Y',\n 165: 'Mew',\n 166: 'Chikorita',\n 167: 'Bayleef',\n 168: 'Meganium',\n 169: 'Cyndaquil',\n 170: 'Quilava',\n 171: 'Typhlosion',\n 172: 'Totodile',\n 173: 'Croconaw',\n 174: 'Feraligatr',\n 175: 'Sentret',\n 176: 'Furret',\n 177: 'Hoothoot',\n 178: 'Noctowl',\n 179: 'Ledyba',\n 180: 'Ledian',\n 181: 'Spinarak',\n 182: 'Ariados',\n 183: 'Crobat',\n 184: 'Chinchou',\n 185: 'Lanturn',\n 186: 'Pichu',\n 187: 'Cleffa',\n 188: 'Igglybuff',\n 189: 'Togepi',\n 190: 'Togetic',\n 191: 'Natu',\n 192: 'Xatu',\n 193: 'Mareep',\n 194: 'Flaaffy',\n 195: 'Ampharos',\n 196: 'AmpharosMega Ampharos',\n 197: 'Bellossom',\n 198: 'Marill',\n 199: 'Azumarill',\n 200: 'Sudowoodo',\n 201: 'Politoed',\n 202: 'Hoppip',\n 203: 'Skiploom',\n 204: 'Jumpluff',\n 205: 'Aipom',\n 206: 'Sunkern',\n 207: 'Sunflora',\n 208: 'Yanma',\n 209: 'Wooper',\n 210: 'Quagsire',\n 211: 'Espeon',\n 212: 'Umbreon',\n 213: 'Murkrow',\n 214: 'Slowking',\n 215: 'Misdreavus',\n 216: 'Unown',\n 217: 'Wobbuffet',\n 218: 'Girafarig',\n 219: 'Pineco',\n 220: 'Forretress',\n 221: 'Dunsparce',\n 222: 'Gligar',\n 223: 'Steelix',\n 224: 'SteelixMega Steelix',\n 225: 'Snubbull',\n 226: 'Granbull',\n 227: 'Qwilfish',\n 228: 'Scizor',\n 229: 'ScizorMega Scizor',\n 230: 'Shuckle',\n 231: 'Heracross',\n 232: 'HeracrossMega Heracross',\n 233: 'Sneasel',\n 234: 'Teddiursa',\n 235: 'Ursaring',\n 236: 'Slugma',\n 237: 'Magcargo',\n 238: 'Swinub',\n 239: 'Piloswine',\n 240: 'Corsola',\n 241: 'Remoraid',\n 242: 'Octillery',\n 243: 'Delibird',\n 244: 'Mantine',\n 245: 'Skarmory',\n 246: 'Houndour',\n 247: 'Houndoom',\n 248: 'HoundoomMega Houndoom',\n 249: 'Kingdra',\n 250: 'Phanpy',\n 251: 'Donphan',\n 252: 'Porygon2',\n 253: 'Stantler',\n 254: 'Smeargle',\n 255: 'Tyrogue',\n 256: 'Hitmontop',\n 257: 'Smoochum',\n 258: 'Elekid',\n 259: 'Magby',\n 260: 'Miltank',\n 261: 'Blissey',\n 262: 'Raikou',\n 263: 'Entei',\n 264: 'Suicune',\n 265: 'Larvitar',\n 266: 'Pupitar',\n 267: 'Tyranitar',\n 268: 'TyranitarMega Tyranitar',\n 269: 'Lugia',\n 270: 'Ho-oh',\n 271: 'Celebi',\n 272: 'Treecko',\n 273: 'Grovyle',\n 274: 'Sceptile',\n 275: 'SceptileMega Sceptile',\n 276: 'Torchic',\n 277: 'Combusken',\n 278: 'Blaziken',\n 279: 'BlazikenMega Blaziken',\n 280: 'Mudkip',\n 281: 'Marshtomp',\n 282: 'Swampert',\n 283: 'SwampertMega Swampert',\n 284: 'Poochyena',\n 285: 'Mightyena',\n 286: 'Zigzagoon',\n 287: 'Linoone',\n 288: 'Wurmple',\n 289: 'Silcoon',\n 290: 'Beautifly',\n 291: 'Cascoon',\n 292: 'Dustox',\n 293: 'Lotad',\n 294: 'Lombre',\n 295: 'Ludicolo',\n 296: 'Seedot',\n 297: 'Nuzleaf',\n 298: 'Shiftry',\n 299: 'Taillow',\n 300: 'Swellow',\n 301: 'Wingull',\n 302: 'Pelipper',\n 303: 'Ralts',\n 304: 'Kirlia',\n 305: 'Gardevoir',\n 306: 'GardevoirMega Gardevoir',\n 307: 'Surskit',\n 308: 'Masquerain',\n 309: 'Shroomish',\n 310: 'Breloom',\n 311: 'Slakoth',\n 312: 'Vigoroth',\n 313: 'Slaking',\n 314: 'Nincada',\n 315: 'Ninjask',\n 316: 'Shedinja',\n 317: 'Whismur',\n 318: 'Loudred',\n 319: 'Exploud',\n 320: 'Makuhita',\n 321: 'Hariyama',\n 322: 'Azurill',\n 323: 'Nosepass',\n 324: 'Skitty',\n 325: 'Delcatty',\n 326: 'Sableye',\n 327: 'SableyeMega Sableye',\n 328: 'Mawile',\n 329: 'MawileMega Mawile',\n 330: 'Aron',\n 331: 'Lairon',\n 332: 'Aggron',\n 333: 'AggronMega Aggron',\n 334: 'Meditite',\n 335: 'Medicham',\n 336: 'MedichamMega Medicham',\n 337: 'Electrike',\n 338: 'Manectric',\n 339: 'ManectricMega Manectric',\n 340: 'Plusle',\n 341: 'Minun',\n 342: 'Volbeat',\n 343: 'Illumise',\n 344: 'Roselia',\n 345: 'Gulpin',\n 346: 'Swalot',\n 347: 'Carvanha',\n 348: 'Sharpedo',\n 349: 'SharpedoMega Sharpedo',\n 350: 'Wailmer',\n 351: 'Wailord',\n 352: 'Numel',\n 353: 'Camerupt',\n 354: 'CameruptMega Camerupt',\n 355: 'Torkoal',\n 356: 'Spoink',\n 357: 'Grumpig',\n 358: 'Spinda',\n 359: 'Trapinch',\n 360: 'Vibrava',\n 361: 'Flygon',\n 362: 'Cacnea',\n 363: 'Cacturne',\n 364: 'Swablu',\n 365: 'Altaria',\n 366: 'AltariaMega Altaria',\n 367: 'Zangoose',\n 368: 'Seviper',\n 369: 'Lunatone',\n 370: 'Solrock',\n 371: 'Barboach',\n 372: 'Whiscash',\n 373: 'Corphish',\n 374: 'Crawdaunt',\n 375: 'Baltoy',\n 376: 'Claydol',\n 377: 'Lileep',\n 378: 'Cradily',\n 379: 'Anorith',\n 380: 'Armaldo',\n 381: 'Feebas',\n 382: 'Milotic',\n 383: 'Castform',\n 384: 'Kecleon',\n 385: 'Shuppet',\n 386: 'Banette',\n 387: 'BanetteMega Banette',\n 388: 'Duskull',\n 389: 'Dusclops',\n 390: 'Tropius',\n 391: 'Chimecho',\n 392: 'Absol',\n 393: 'AbsolMega Absol',\n 394: 'Wynaut',\n 395: 'Snorunt',\n 396: 'Glalie',\n 397: 'GlalieMega Glalie',\n 398: 'Spheal',\n 399: 'Sealeo',\n 400: 'Walrein',\n 401: 'Clamperl',\n 402: 'Huntail',\n 403: 'Gorebyss',\n 404: 'Relicanth',\n 405: 'Luvdisc',\n 406: 'Bagon',\n 407: 'Shelgon',\n 408: 'Salamence',\n 409: 'SalamenceMega Salamence',\n 410: 'Beldum',\n 411: 'Metang',\n 412: 'Metagross',\n 413: 'MetagrossMega Metagross',\n 414: 'Regirock',\n 415: 'Regice',\n 416: 'Registeel',\n 417: 'Latias',\n 418: 'LatiasMega Latias',\n 419: 'Latios',\n 420: 'LatiosMega Latios',\n 421: 'Kyogre',\n 422: 'KyogrePrimal Kyogre',\n 423: 'Groudon',\n 424: 'GroudonPrimal Groudon',\n 425: 'Rayquaza',\n 426: 'RayquazaMega Rayquaza',\n 427: 'Jirachi',\n 428: 'DeoxysNormal Forme',\n 429: 'DeoxysAttack Forme',\n 430: 'DeoxysDefense Forme',\n 431: 'DeoxysSpeed Forme',\n 432: 'Turtwig',\n 433: 'Grotle',\n 434: 'Torterra',\n 435: 'Chimchar',\n 436: 'Monferno',\n 437: 'Infernape',\n 438: 'Piplup',\n 439: 'Prinplup',\n 440: 'Empoleon',\n 441: 'Starly',\n 442: 'Staravia',\n 443: 'Staraptor',\n 444: 'Bidoof',\n 445: 'Bibarel',\n 446: 'Kricketot',\n 447: 'Kricketune',\n 448: 'Shinx',\n 449: 'Luxio',\n 450: 'Luxray',\n 451: 'Budew',\n 452: 'Roserade',\n 453: 'Cranidos',\n 454: 'Rampardos',\n 455: 'Shieldon',\n 456: 'Bastiodon',\n 457: 'Burmy',\n 458: 'WormadamPlant Cloak',\n 459: 'WormadamSandy Cloak',\n 460: 'WormadamTrash Cloak',\n 461: 'Mothim',\n 462: 'Combee',\n 463: 'Vespiquen',\n 464: 'Pachirisu',\n 465: 'Buizel',\n 466: 'Floatzel',\n 467: 'Cherubi',\n 468: 'Cherrim',\n 469: 'Shellos',\n 470: 'Gastrodon',\n 471: 'Ambipom',\n 472: 'Drifloon',\n 473: 'Drifblim',\n 474: 'Buneary',\n 475: 'Lopunny',\n 476: 'LopunnyMega Lopunny',\n 477: 'Mismagius',\n 478: 'Honchkrow',\n 479: 'Glameow',\n 480: 'Purugly',\n 481: 'Chingling',\n 482: 'Stunky',\n 483: 'Skuntank',\n 484: 'Bronzor',\n 485: 'Bronzong',\n 486: 'Bonsly',\n 487: 'Mime Jr.',\n 488: 'Happiny',\n 489: 'Chatot',\n 490: 'Spiritomb',\n 491: 'Gible',\n 492: 'Gabite',\n 493: 'Garchomp',\n 494: 'GarchompMega Garchomp',\n 495: 'Munchlax',\n 496: 'Riolu',\n 497: 'Lucario',\n 498: 'LucarioMega Lucario',\n 499: 'Hippopotas',\n 500: 'Hippowdon',\n 501: 'Skorupi',\n 502: 'Drapion',\n 503: 'Croagunk',\n 504: 'Toxicroak',\n 505: 'Carnivine',\n 506: 'Finneon',\n 507: 'Lumineon',\n 508: 'Mantyke',\n 509: 'Snover',\n 510: 'Abomasnow',\n 511: 'AbomasnowMega Abomasnow',\n 512: 'Weavile',\n 513: 'Magnezone',\n 514: 'Lickilicky',\n 515: 'Rhyperior',\n 516: 'Tangrowth',\n 517: 'Electivire',\n 518: 'Magmortar',\n 519: 'Togekiss',\n 520: 'Yanmega',\n 521: 'Leafeon',\n 522: 'Glaceon',\n 523: 'Gliscor',\n 524: 'Mamoswine',\n 525: 'Porygon-Z',\n 526: 'Gallade',\n 527: 'GalladeMega Gallade',\n 528: 'Probopass',\n 529: 'Dusknoir',\n 530: 'Froslass',\n 531: 'Rotom',\n 532: 'RotomHeat Rotom',\n 533: 'RotomWash Rotom',\n 534: 'RotomFrost Rotom',\n 535: 'RotomFan Rotom',\n 536: 'RotomMow Rotom',\n 537: 'Uxie',\n 538: 'Mesprit',\n 539: 'Azelf',\n 540: 'Dialga',\n 541: 'Palkia',\n 542: 'Heatran',\n 543: 'Regigigas',\n 544: 'GiratinaAltered Forme',\n 545: 'GiratinaOrigin Forme',\n 546: 'Cresselia',\n 547: 'Phione',\n 548: 'Manaphy',\n 549: 'Darkrai',\n 550: 'ShayminLand Forme',\n 551: 'ShayminSky Forme',\n 552: 'Arceus',\n 553: 'Victini',\n 554: 'Snivy',\n 555: 'Servine',\n 556: 'Serperior',\n 557: 'Tepig',\n 558: 'Pignite',\n 559: 'Emboar',\n 560: 'Oshawott',\n 561: 'Dewott',\n 562: 'Samurott',\n 563: 'Patrat',\n 564: 'Watchog',\n 565: 'Lillipup',\n 566: 'Herdier',\n 567: 'Stoutland',\n 568: 'Purrloin',\n 569: 'Liepard',\n 570: 'Pansage',\n 571: 'Simisage',\n 572: 'Pansear',\n 573: 'Simisear',\n 574: 'Panpour',\n 575: 'Simipour',\n 576: 'Munna',\n 577: 'Musharna',\n 578: 'Pidove',\n 579: 'Tranquill',\n 580: 'Unfezant',\n 581: 'Blitzle',\n 582: 'Zebstrika',\n 583: 'Roggenrola',\n 584: 'Boldore',\n 585: 'Gigalith',\n 586: 'Woobat',\n 587: 'Swoobat',\n 588: 'Drilbur',\n 589: 'Excadrill',\n 590: 'Audino',\n 591: 'AudinoMega Audino',\n 592: 'Timburr',\n 593: 'Gurdurr',\n 594: 'Conkeldurr',\n 595: 'Tympole',\n 596: 'Palpitoad',\n 597: 'Seismitoad',\n 598: 'Throh',\n 599: 'Sawk',\n 600: 'Sewaddle',\n 601: 'Swadloon',\n 602: 'Leavanny',\n 603: 'Venipede',\n 604: 'Whirlipede',\n 605: 'Scolipede',\n 606: 'Cottonee',\n 607: 'Whimsicott',\n 608: 'Petilil',\n 609: 'Lilligant',\n 610: 'Basculin',\n 611: 'Sandile',\n 612: 'Krokorok',\n 613: 'Krookodile',\n 614: 'Darumaka',\n 615: 'DarmanitanStandard Mode',\n 616: 'DarmanitanZen Mode',\n 617: 'Maractus',\n 618: 'Dwebble',\n 619: 'Crustle',\n 620: 'Scraggy',\n 621: 'Scrafty',\n 622: 'Sigilyph',\n 623: 'Yamask',\n 624: 'Cofagrigus',\n 625: 'Tirtouga',\n 626: 'Carracosta',\n 627: 'Archen',\n 628: 'Archeops',\n 629: 'Trubbish',\n 630: 'Garbodor',\n 631: 'Zorua',\n 632: 'Zoroark',\n 633: 'Minccino',\n 634: 'Cinccino',\n 635: 'Gothita',\n 636: 'Gothorita',\n 637: 'Gothitelle',\n 638: 'Solosis',\n 639: 'Duosion',\n 640: 'Reuniclus',\n 641: 'Ducklett',\n 642: 'Swanna',\n 643: 'Vanillite',\n 644: 'Vanillish',\n 645: 'Vanilluxe',\n 646: 'Deerling',\n 647: 'Sawsbuck',\n 648: 'Emolga',\n 649: 'Karrablast',\n 650: 'Escavalier',\n 651: 'Foongus',\n 652: 'Amoonguss',\n 653: 'Frillish',\n 654: 'Jellicent',\n 655: 'Alomomola',\n 656: 'Joltik',\n 657: 'Galvantula',\n 658: 'Ferroseed',\n 659: 'Ferrothorn',\n 660: 'Klink',\n 661: 'Klang',\n 662: 'Klinklang',\n 663: 'Tynamo',\n 664: 'Eelektrik',\n 665: 'Eelektross',\n 666: 'Elgyem',\n 667: 'Beheeyem',\n 668: 'Litwick',\n 669: 'Lampent',\n 670: 'Chandelure',\n 671: 'Axew',\n 672: 'Fraxure',\n 673: 'Haxorus',\n 674: 'Cubchoo',\n 675: 'Beartic',\n 676: 'Cryogonal',\n 677: 'Shelmet',\n 678: 'Accelgor',\n 679: 'Stunfisk',\n 680: 'Mienfoo',\n 681: 'Mienshao',\n 682: 'Druddigon',\n 683: 'Golett',\n 684: 'Golurk',\n 685: 'Pawniard',\n 686: 'Bisharp',\n 687: 'Bouffalant',\n 688: 'Rufflet',\n 689: 'Braviary',\n 690: 'Vullaby',\n 691: 'Mandibuzz',\n 692: 'Heatmor',\n 693: 'Durant',\n 694: 'Deino',\n 695: 'Zweilous',\n 696: 'Hydreigon',\n 697: 'Larvesta',\n 698: 'Volcarona',\n 699: 'Cobalion',\n 700: 'Terrakion',\n 701: 'Virizion',\n 702: 'TornadusIncarnate Forme',\n 703: 'TornadusTherian Forme',\n 704: 'ThundurusIncarnate Forme',\n 705: 'ThundurusTherian Forme',\n 706: 'Reshiram',\n 707: 'Zekrom',\n 708: 'LandorusIncarnate Forme',\n 709: 'LandorusTherian Forme',\n 710: 'Kyurem',\n 711: 'KyuremBlack Kyurem',\n 712: 'KyuremWhite Kyurem',\n 713: 'KeldeoOrdinary Forme',\n 714: 'KeldeoResolute Forme',\n 715: 'MeloettaAria Forme',\n 716: 'MeloettaPirouette Forme',\n 717: 'Genesect',\n 718: 'Chespin',\n 719: 'Quilladin',\n 720: 'Chesnaught',\n 721: 'Fennekin',\n 722: 'Braixen',\n 723: 'Delphox',\n 724: 'Froakie',\n 725: 'Frogadier',\n 726: 'Greninja',\n 727: 'Bunnelby',\n 728: 'Diggersby',\n 729: 'Fletchling',\n 730: 'Fletchinder',\n 731: 'Talonflame',\n 732: 'Scatterbug',\n 733: 'Spewpa',\n 734: 'Vivillon',\n 735: 'Litleo',\n 736: 'Pyroar',\n 737: 'Flabébé',\n 738: 'Floette',\n 739: 'Florges',\n 740: 'Skiddo',\n 741: 'Gogoat',\n 742: 'Pancham',\n 743: 'Pangoro',\n 744: 'Furfrou',\n 745: 'Espurr',\n 746: 'MeowsticMale',\n 747: 'MeowsticFemale',\n 748: 'Honedge',\n 749: 'Doublade',\n 750: 'AegislashBlade Forme',\n 751: 'AegislashShield Forme',\n 752: 'Spritzee',\n 753: 'Aromatisse',\n 754: 'Swirlix',\n 755: 'Slurpuff',\n 756: 'Inkay',\n 757: 'Malamar',\n 758: 'Binacle',\n 759: 'Barbaracle',\n 760: 'Skrelp',\n 761: 'Dragalge',\n 762: 'Clauncher',\n 763: 'Clawitzer',\n 764: 'Helioptile',\n 765: 'Heliolisk',\n 766: 'Tyrunt',\n 767: 'Tyrantrum',\n 768: 'Amaura',\n 769: 'Aurorus',\n 770: 'Sylveon',\n 771: 'Hawlucha',\n 772: 'Dedenne',\n 773: 'Carbink',\n 774: 'Goomy',\n 775: 'Sliggoo',\n 776: 'Goodra',\n 777: 'Klefki',\n 778: 'Phantump',\n 779: 'Trevenant',\n 780: 'PumpkabooAverage Size',\n 781: 'PumpkabooSmall Size',\n 782: 'PumpkabooLarge Size',\n 783: 'PumpkabooSuper Size',\n 784: 'GourgeistAverage Size',\n 785: 'GourgeistSmall Size',\n 786: 'GourgeistLarge Size',\n 787: 'GourgeistSuper Size',\n 788: 'Bergmite',\n 789: 'Avalugg',\n 790: 'Noibat',\n 791: 'Noivern',\n 792: 'Xerneas',\n 793: 'Yveltal',\n 794: 'Zygarde50% Forme',\n 795: 'Diancie',\n 796: 'DiancieMega Diancie',\n 797: 'HoopaHoopa Confined',\n 798: 'HoopaHoopa Unbound',\n 799: 'Volcanion'}"
     },
     "execution_count": 34,
     "metadata": {},
     "output_type": "execute_result"
    }
   ],
   "source": [
    "# convert series into a dict\n",
    "dict(s)\n"
   ],
   "metadata": {
    "collapsed": false,
    "pycharm": {
     "name": "#%%\n"
    }
   }
  },
  {
   "cell_type": "code",
   "execution_count": 35,
   "outputs": [
    {
     "data": {
      "text/plain": "['Bulbasaur',\n 'Ivysaur',\n 'Venusaur',\n 'VenusaurMega Venusaur',\n 'Charmander',\n 'Charmeleon',\n 'Charizard',\n 'CharizardMega Charizard X',\n 'CharizardMega Charizard Y',\n 'Squirtle',\n 'Wartortle',\n 'Blastoise',\n 'BlastoiseMega Blastoise',\n 'Caterpie',\n 'Metapod',\n 'Butterfree',\n 'Weedle',\n 'Kakuna',\n 'Beedrill',\n 'BeedrillMega Beedrill',\n 'Pidgey',\n 'Pidgeotto',\n 'Pidgeot',\n 'PidgeotMega Pidgeot',\n 'Rattata',\n 'Raticate',\n 'Spearow',\n 'Fearow',\n 'Ekans',\n 'Arbok',\n 'Pikachu',\n 'Raichu',\n 'Sandshrew',\n 'Sandslash',\n 'Nidoran♀',\n 'Nidorina',\n 'Nidoqueen',\n 'Nidoran♂',\n 'Nidorino',\n 'Nidoking',\n 'Clefairy',\n 'Clefable',\n 'Vulpix',\n 'Ninetales',\n 'Jigglypuff',\n 'Wigglytuff',\n 'Zubat',\n 'Golbat',\n 'Oddish',\n 'Gloom',\n 'Vileplume',\n 'Paras',\n 'Parasect',\n 'Venonat',\n 'Venomoth',\n 'Diglett',\n 'Dugtrio',\n 'Meowth',\n 'Persian',\n 'Psyduck',\n 'Golduck',\n 'Mankey',\n 'Primeape',\n 'Growlithe',\n 'Arcanine',\n 'Poliwag',\n 'Poliwhirl',\n 'Poliwrath',\n 'Abra',\n 'Kadabra',\n 'Alakazam',\n 'AlakazamMega Alakazam',\n 'Machop',\n 'Machoke',\n 'Machamp',\n 'Bellsprout',\n 'Weepinbell',\n 'Victreebel',\n 'Tentacool',\n 'Tentacruel',\n 'Geodude',\n 'Graveler',\n 'Golem',\n 'Ponyta',\n 'Rapidash',\n 'Slowpoke',\n 'Slowbro',\n 'SlowbroMega Slowbro',\n 'Magnemite',\n 'Magneton',\n \"Farfetch'd\",\n 'Doduo',\n 'Dodrio',\n 'Seel',\n 'Dewgong',\n 'Grimer',\n 'Muk',\n 'Shellder',\n 'Cloyster',\n 'Gastly',\n 'Haunter',\n 'Gengar',\n 'GengarMega Gengar',\n 'Onix',\n 'Drowzee',\n 'Hypno',\n 'Krabby',\n 'Kingler',\n 'Voltorb',\n 'Electrode',\n 'Exeggcute',\n 'Exeggutor',\n 'Cubone',\n 'Marowak',\n 'Hitmonlee',\n 'Hitmonchan',\n 'Lickitung',\n 'Koffing',\n 'Weezing',\n 'Rhyhorn',\n 'Rhydon',\n 'Chansey',\n 'Tangela',\n 'Kangaskhan',\n 'KangaskhanMega Kangaskhan',\n 'Horsea',\n 'Seadra',\n 'Goldeen',\n 'Seaking',\n 'Staryu',\n 'Starmie',\n 'Mr. Mime',\n 'Scyther',\n 'Jynx',\n 'Electabuzz',\n 'Magmar',\n 'Pinsir',\n 'PinsirMega Pinsir',\n 'Tauros',\n 'Magikarp',\n 'Gyarados',\n 'GyaradosMega Gyarados',\n 'Lapras',\n 'Ditto',\n 'Eevee',\n 'Vaporeon',\n 'Jolteon',\n 'Flareon',\n 'Porygon',\n 'Omanyte',\n 'Omastar',\n 'Kabuto',\n 'Kabutops',\n 'Aerodactyl',\n 'AerodactylMega Aerodactyl',\n 'Snorlax',\n 'Articuno',\n 'Zapdos',\n 'Moltres',\n 'Dratini',\n 'Dragonair',\n 'Dragonite',\n 'Mewtwo',\n 'MewtwoMega Mewtwo X',\n 'MewtwoMega Mewtwo Y',\n 'Mew',\n 'Chikorita',\n 'Bayleef',\n 'Meganium',\n 'Cyndaquil',\n 'Quilava',\n 'Typhlosion',\n 'Totodile',\n 'Croconaw',\n 'Feraligatr',\n 'Sentret',\n 'Furret',\n 'Hoothoot',\n 'Noctowl',\n 'Ledyba',\n 'Ledian',\n 'Spinarak',\n 'Ariados',\n 'Crobat',\n 'Chinchou',\n 'Lanturn',\n 'Pichu',\n 'Cleffa',\n 'Igglybuff',\n 'Togepi',\n 'Togetic',\n 'Natu',\n 'Xatu',\n 'Mareep',\n 'Flaaffy',\n 'Ampharos',\n 'AmpharosMega Ampharos',\n 'Bellossom',\n 'Marill',\n 'Azumarill',\n 'Sudowoodo',\n 'Politoed',\n 'Hoppip',\n 'Skiploom',\n 'Jumpluff',\n 'Aipom',\n 'Sunkern',\n 'Sunflora',\n 'Yanma',\n 'Wooper',\n 'Quagsire',\n 'Espeon',\n 'Umbreon',\n 'Murkrow',\n 'Slowking',\n 'Misdreavus',\n 'Unown',\n 'Wobbuffet',\n 'Girafarig',\n 'Pineco',\n 'Forretress',\n 'Dunsparce',\n 'Gligar',\n 'Steelix',\n 'SteelixMega Steelix',\n 'Snubbull',\n 'Granbull',\n 'Qwilfish',\n 'Scizor',\n 'ScizorMega Scizor',\n 'Shuckle',\n 'Heracross',\n 'HeracrossMega Heracross',\n 'Sneasel',\n 'Teddiursa',\n 'Ursaring',\n 'Slugma',\n 'Magcargo',\n 'Swinub',\n 'Piloswine',\n 'Corsola',\n 'Remoraid',\n 'Octillery',\n 'Delibird',\n 'Mantine',\n 'Skarmory',\n 'Houndour',\n 'Houndoom',\n 'HoundoomMega Houndoom',\n 'Kingdra',\n 'Phanpy',\n 'Donphan',\n 'Porygon2',\n 'Stantler',\n 'Smeargle',\n 'Tyrogue',\n 'Hitmontop',\n 'Smoochum',\n 'Elekid',\n 'Magby',\n 'Miltank',\n 'Blissey',\n 'Raikou',\n 'Entei',\n 'Suicune',\n 'Larvitar',\n 'Pupitar',\n 'Tyranitar',\n 'TyranitarMega Tyranitar',\n 'Lugia',\n 'Ho-oh',\n 'Celebi',\n 'Treecko',\n 'Grovyle',\n 'Sceptile',\n 'SceptileMega Sceptile',\n 'Torchic',\n 'Combusken',\n 'Blaziken',\n 'BlazikenMega Blaziken',\n 'Mudkip',\n 'Marshtomp',\n 'Swampert',\n 'SwampertMega Swampert',\n 'Poochyena',\n 'Mightyena',\n 'Zigzagoon',\n 'Linoone',\n 'Wurmple',\n 'Silcoon',\n 'Beautifly',\n 'Cascoon',\n 'Dustox',\n 'Lotad',\n 'Lombre',\n 'Ludicolo',\n 'Seedot',\n 'Nuzleaf',\n 'Shiftry',\n 'Taillow',\n 'Swellow',\n 'Wingull',\n 'Pelipper',\n 'Ralts',\n 'Kirlia',\n 'Gardevoir',\n 'GardevoirMega Gardevoir',\n 'Surskit',\n 'Masquerain',\n 'Shroomish',\n 'Breloom',\n 'Slakoth',\n 'Vigoroth',\n 'Slaking',\n 'Nincada',\n 'Ninjask',\n 'Shedinja',\n 'Whismur',\n 'Loudred',\n 'Exploud',\n 'Makuhita',\n 'Hariyama',\n 'Azurill',\n 'Nosepass',\n 'Skitty',\n 'Delcatty',\n 'Sableye',\n 'SableyeMega Sableye',\n 'Mawile',\n 'MawileMega Mawile',\n 'Aron',\n 'Lairon',\n 'Aggron',\n 'AggronMega Aggron',\n 'Meditite',\n 'Medicham',\n 'MedichamMega Medicham',\n 'Electrike',\n 'Manectric',\n 'ManectricMega Manectric',\n 'Plusle',\n 'Minun',\n 'Volbeat',\n 'Illumise',\n 'Roselia',\n 'Gulpin',\n 'Swalot',\n 'Carvanha',\n 'Sharpedo',\n 'SharpedoMega Sharpedo',\n 'Wailmer',\n 'Wailord',\n 'Numel',\n 'Camerupt',\n 'CameruptMega Camerupt',\n 'Torkoal',\n 'Spoink',\n 'Grumpig',\n 'Spinda',\n 'Trapinch',\n 'Vibrava',\n 'Flygon',\n 'Cacnea',\n 'Cacturne',\n 'Swablu',\n 'Altaria',\n 'AltariaMega Altaria',\n 'Zangoose',\n 'Seviper',\n 'Lunatone',\n 'Solrock',\n 'Barboach',\n 'Whiscash',\n 'Corphish',\n 'Crawdaunt',\n 'Baltoy',\n 'Claydol',\n 'Lileep',\n 'Cradily',\n 'Anorith',\n 'Armaldo',\n 'Feebas',\n 'Milotic',\n 'Castform',\n 'Kecleon',\n 'Shuppet',\n 'Banette',\n 'BanetteMega Banette',\n 'Duskull',\n 'Dusclops',\n 'Tropius',\n 'Chimecho',\n 'Absol',\n 'AbsolMega Absol',\n 'Wynaut',\n 'Snorunt',\n 'Glalie',\n 'GlalieMega Glalie',\n 'Spheal',\n 'Sealeo',\n 'Walrein',\n 'Clamperl',\n 'Huntail',\n 'Gorebyss',\n 'Relicanth',\n 'Luvdisc',\n 'Bagon',\n 'Shelgon',\n 'Salamence',\n 'SalamenceMega Salamence',\n 'Beldum',\n 'Metang',\n 'Metagross',\n 'MetagrossMega Metagross',\n 'Regirock',\n 'Regice',\n 'Registeel',\n 'Latias',\n 'LatiasMega Latias',\n 'Latios',\n 'LatiosMega Latios',\n 'Kyogre',\n 'KyogrePrimal Kyogre',\n 'Groudon',\n 'GroudonPrimal Groudon',\n 'Rayquaza',\n 'RayquazaMega Rayquaza',\n 'Jirachi',\n 'DeoxysNormal Forme',\n 'DeoxysAttack Forme',\n 'DeoxysDefense Forme',\n 'DeoxysSpeed Forme',\n 'Turtwig',\n 'Grotle',\n 'Torterra',\n 'Chimchar',\n 'Monferno',\n 'Infernape',\n 'Piplup',\n 'Prinplup',\n 'Empoleon',\n 'Starly',\n 'Staravia',\n 'Staraptor',\n 'Bidoof',\n 'Bibarel',\n 'Kricketot',\n 'Kricketune',\n 'Shinx',\n 'Luxio',\n 'Luxray',\n 'Budew',\n 'Roserade',\n 'Cranidos',\n 'Rampardos',\n 'Shieldon',\n 'Bastiodon',\n 'Burmy',\n 'WormadamPlant Cloak',\n 'WormadamSandy Cloak',\n 'WormadamTrash Cloak',\n 'Mothim',\n 'Combee',\n 'Vespiquen',\n 'Pachirisu',\n 'Buizel',\n 'Floatzel',\n 'Cherubi',\n 'Cherrim',\n 'Shellos',\n 'Gastrodon',\n 'Ambipom',\n 'Drifloon',\n 'Drifblim',\n 'Buneary',\n 'Lopunny',\n 'LopunnyMega Lopunny',\n 'Mismagius',\n 'Honchkrow',\n 'Glameow',\n 'Purugly',\n 'Chingling',\n 'Stunky',\n 'Skuntank',\n 'Bronzor',\n 'Bronzong',\n 'Bonsly',\n 'Mime Jr.',\n 'Happiny',\n 'Chatot',\n 'Spiritomb',\n 'Gible',\n 'Gabite',\n 'Garchomp',\n 'GarchompMega Garchomp',\n 'Munchlax',\n 'Riolu',\n 'Lucario',\n 'LucarioMega Lucario',\n 'Hippopotas',\n 'Hippowdon',\n 'Skorupi',\n 'Drapion',\n 'Croagunk',\n 'Toxicroak',\n 'Carnivine',\n 'Finneon',\n 'Lumineon',\n 'Mantyke',\n 'Snover',\n 'Abomasnow',\n 'AbomasnowMega Abomasnow',\n 'Weavile',\n 'Magnezone',\n 'Lickilicky',\n 'Rhyperior',\n 'Tangrowth',\n 'Electivire',\n 'Magmortar',\n 'Togekiss',\n 'Yanmega',\n 'Leafeon',\n 'Glaceon',\n 'Gliscor',\n 'Mamoswine',\n 'Porygon-Z',\n 'Gallade',\n 'GalladeMega Gallade',\n 'Probopass',\n 'Dusknoir',\n 'Froslass',\n 'Rotom',\n 'RotomHeat Rotom',\n 'RotomWash Rotom',\n 'RotomFrost Rotom',\n 'RotomFan Rotom',\n 'RotomMow Rotom',\n 'Uxie',\n 'Mesprit',\n 'Azelf',\n 'Dialga',\n 'Palkia',\n 'Heatran',\n 'Regigigas',\n 'GiratinaAltered Forme',\n 'GiratinaOrigin Forme',\n 'Cresselia',\n 'Phione',\n 'Manaphy',\n 'Darkrai',\n 'ShayminLand Forme',\n 'ShayminSky Forme',\n 'Arceus',\n 'Victini',\n 'Snivy',\n 'Servine',\n 'Serperior',\n 'Tepig',\n 'Pignite',\n 'Emboar',\n 'Oshawott',\n 'Dewott',\n 'Samurott',\n 'Patrat',\n 'Watchog',\n 'Lillipup',\n 'Herdier',\n 'Stoutland',\n 'Purrloin',\n 'Liepard',\n 'Pansage',\n 'Simisage',\n 'Pansear',\n 'Simisear',\n 'Panpour',\n 'Simipour',\n 'Munna',\n 'Musharna',\n 'Pidove',\n 'Tranquill',\n 'Unfezant',\n 'Blitzle',\n 'Zebstrika',\n 'Roggenrola',\n 'Boldore',\n 'Gigalith',\n 'Woobat',\n 'Swoobat',\n 'Drilbur',\n 'Excadrill',\n 'Audino',\n 'AudinoMega Audino',\n 'Timburr',\n 'Gurdurr',\n 'Conkeldurr',\n 'Tympole',\n 'Palpitoad',\n 'Seismitoad',\n 'Throh',\n 'Sawk',\n 'Sewaddle',\n 'Swadloon',\n 'Leavanny',\n 'Venipede',\n 'Whirlipede',\n 'Scolipede',\n 'Cottonee',\n 'Whimsicott',\n 'Petilil',\n 'Lilligant',\n 'Basculin',\n 'Sandile',\n 'Krokorok',\n 'Krookodile',\n 'Darumaka',\n 'DarmanitanStandard Mode',\n 'DarmanitanZen Mode',\n 'Maractus',\n 'Dwebble',\n 'Crustle',\n 'Scraggy',\n 'Scrafty',\n 'Sigilyph',\n 'Yamask',\n 'Cofagrigus',\n 'Tirtouga',\n 'Carracosta',\n 'Archen',\n 'Archeops',\n 'Trubbish',\n 'Garbodor',\n 'Zorua',\n 'Zoroark',\n 'Minccino',\n 'Cinccino',\n 'Gothita',\n 'Gothorita',\n 'Gothitelle',\n 'Solosis',\n 'Duosion',\n 'Reuniclus',\n 'Ducklett',\n 'Swanna',\n 'Vanillite',\n 'Vanillish',\n 'Vanilluxe',\n 'Deerling',\n 'Sawsbuck',\n 'Emolga',\n 'Karrablast',\n 'Escavalier',\n 'Foongus',\n 'Amoonguss',\n 'Frillish',\n 'Jellicent',\n 'Alomomola',\n 'Joltik',\n 'Galvantula',\n 'Ferroseed',\n 'Ferrothorn',\n 'Klink',\n 'Klang',\n 'Klinklang',\n 'Tynamo',\n 'Eelektrik',\n 'Eelektross',\n 'Elgyem',\n 'Beheeyem',\n 'Litwick',\n 'Lampent',\n 'Chandelure',\n 'Axew',\n 'Fraxure',\n 'Haxorus',\n 'Cubchoo',\n 'Beartic',\n 'Cryogonal',\n 'Shelmet',\n 'Accelgor',\n 'Stunfisk',\n 'Mienfoo',\n 'Mienshao',\n 'Druddigon',\n 'Golett',\n 'Golurk',\n 'Pawniard',\n 'Bisharp',\n 'Bouffalant',\n 'Rufflet',\n 'Braviary',\n 'Vullaby',\n 'Mandibuzz',\n 'Heatmor',\n 'Durant',\n 'Deino',\n 'Zweilous',\n 'Hydreigon',\n 'Larvesta',\n 'Volcarona',\n 'Cobalion',\n 'Terrakion',\n 'Virizion',\n 'TornadusIncarnate Forme',\n 'TornadusTherian Forme',\n 'ThundurusIncarnate Forme',\n 'ThundurusTherian Forme',\n 'Reshiram',\n 'Zekrom',\n 'LandorusIncarnate Forme',\n 'LandorusTherian Forme',\n 'Kyurem',\n 'KyuremBlack Kyurem',\n 'KyuremWhite Kyurem',\n 'KeldeoOrdinary Forme',\n 'KeldeoResolute Forme',\n 'MeloettaAria Forme',\n 'MeloettaPirouette Forme',\n 'Genesect',\n 'Chespin',\n 'Quilladin',\n 'Chesnaught',\n 'Fennekin',\n 'Braixen',\n 'Delphox',\n 'Froakie',\n 'Frogadier',\n 'Greninja',\n 'Bunnelby',\n 'Diggersby',\n 'Fletchling',\n 'Fletchinder',\n 'Talonflame',\n 'Scatterbug',\n 'Spewpa',\n 'Vivillon',\n 'Litleo',\n 'Pyroar',\n 'Flabébé',\n 'Floette',\n 'Florges',\n 'Skiddo',\n 'Gogoat',\n 'Pancham',\n 'Pangoro',\n 'Furfrou',\n 'Espurr',\n 'MeowsticMale',\n 'MeowsticFemale',\n 'Honedge',\n 'Doublade',\n 'AegislashBlade Forme',\n 'AegislashShield Forme',\n 'Spritzee',\n 'Aromatisse',\n 'Swirlix',\n 'Slurpuff',\n 'Inkay',\n 'Malamar',\n 'Binacle',\n 'Barbaracle',\n 'Skrelp',\n 'Dragalge',\n 'Clauncher',\n 'Clawitzer',\n 'Helioptile',\n 'Heliolisk',\n 'Tyrunt',\n 'Tyrantrum',\n 'Amaura',\n 'Aurorus',\n 'Sylveon',\n 'Hawlucha',\n 'Dedenne',\n 'Carbink',\n 'Goomy',\n 'Sliggoo',\n 'Goodra',\n 'Klefki',\n 'Phantump',\n 'Trevenant',\n 'PumpkabooAverage Size',\n 'PumpkabooSmall Size',\n 'PumpkabooLarge Size',\n 'PumpkabooSuper Size',\n 'GourgeistAverage Size',\n 'GourgeistSmall Size',\n 'GourgeistLarge Size',\n 'GourgeistSuper Size',\n 'Bergmite',\n 'Avalugg',\n 'Noibat',\n 'Noivern',\n 'Xerneas',\n 'Yveltal',\n 'Zygarde50% Forme',\n 'Diancie',\n 'DiancieMega Diancie',\n 'HoopaHoopa Confined',\n 'HoopaHoopa Unbound',\n 'Volcanion']"
     },
     "execution_count": 35,
     "metadata": {},
     "output_type": "execute_result"
    }
   ],
   "source": [
    "# convert series to list\n",
    "list(s)\n"
   ],
   "metadata": {
    "collapsed": false,
    "pycharm": {
     "name": "#%%\n"
    }
   }
  },
  {
   "cell_type": "code",
   "execution_count": 47,
   "outputs": [
    {
     "data": {
      "text/plain": "393            AbsolMega Absol\n392                      Absol\n68                        Abra\n511    AbomasnowMega Abomasnow\n510                  Abomasnow\nName: MyName, dtype: object"
     },
     "execution_count": 47,
     "metadata": {},
     "output_type": "execute_result"
    }
   ],
   "source": [
    "# sort values using series\n",
    "# sort_values returns a new series\n",
    "s.sort_values(ascending=False).tail()"
   ],
   "metadata": {
    "collapsed": false,
    "pycharm": {
     "name": "#%%\n"
    }
   }
  },
  {
   "cell_type": "code",
   "execution_count": 36,
   "outputs": [
    {
     "data": {
      "text/plain": "['Abomasnow',\n 'AbomasnowMega Abomasnow',\n 'Abra',\n 'Absol',\n 'AbsolMega Absol',\n 'Accelgor',\n 'AegislashBlade Forme',\n 'AegislashShield Forme',\n 'Aerodactyl',\n 'AerodactylMega Aerodactyl',\n 'Aggron',\n 'AggronMega Aggron',\n 'Aipom',\n 'Alakazam',\n 'AlakazamMega Alakazam',\n 'Alomomola',\n 'Altaria',\n 'AltariaMega Altaria',\n 'Amaura',\n 'Ambipom',\n 'Amoonguss',\n 'Ampharos',\n 'AmpharosMega Ampharos',\n 'Anorith',\n 'Arbok',\n 'Arcanine',\n 'Arceus',\n 'Archen',\n 'Archeops',\n 'Ariados',\n 'Armaldo',\n 'Aromatisse',\n 'Aron',\n 'Articuno',\n 'Audino',\n 'AudinoMega Audino',\n 'Aurorus',\n 'Avalugg',\n 'Axew',\n 'Azelf',\n 'Azumarill',\n 'Azurill',\n 'Bagon',\n 'Baltoy',\n 'Banette',\n 'BanetteMega Banette',\n 'Barbaracle',\n 'Barboach',\n 'Basculin',\n 'Bastiodon',\n 'Bayleef',\n 'Beartic',\n 'Beautifly',\n 'Beedrill',\n 'BeedrillMega Beedrill',\n 'Beheeyem',\n 'Beldum',\n 'Bellossom',\n 'Bellsprout',\n 'Bergmite',\n 'Bibarel',\n 'Bidoof',\n 'Binacle',\n 'Bisharp',\n 'Blastoise',\n 'BlastoiseMega Blastoise',\n 'Blaziken',\n 'BlazikenMega Blaziken',\n 'Blissey',\n 'Blitzle',\n 'Boldore',\n 'Bonsly',\n 'Bouffalant',\n 'Braixen',\n 'Braviary',\n 'Breloom',\n 'Bronzong',\n 'Bronzor',\n 'Budew',\n 'Buizel',\n 'Bulbasaur',\n 'Buneary',\n 'Bunnelby',\n 'Burmy',\n 'Butterfree',\n 'Cacnea',\n 'Cacturne',\n 'Camerupt',\n 'CameruptMega Camerupt',\n 'Carbink',\n 'Carnivine',\n 'Carracosta',\n 'Carvanha',\n 'Cascoon',\n 'Castform',\n 'Caterpie',\n 'Celebi',\n 'Chandelure',\n 'Chansey',\n 'Charizard',\n 'CharizardMega Charizard X',\n 'CharizardMega Charizard Y',\n 'Charmander',\n 'Charmeleon',\n 'Chatot',\n 'Cherrim',\n 'Cherubi',\n 'Chesnaught',\n 'Chespin',\n 'Chikorita',\n 'Chimchar',\n 'Chimecho',\n 'Chinchou',\n 'Chingling',\n 'Cinccino',\n 'Clamperl',\n 'Clauncher',\n 'Clawitzer',\n 'Claydol',\n 'Clefable',\n 'Clefairy',\n 'Cleffa',\n 'Cloyster',\n 'Cobalion',\n 'Cofagrigus',\n 'Combee',\n 'Combusken',\n 'Conkeldurr',\n 'Corphish',\n 'Corsola',\n 'Cottonee',\n 'Cradily',\n 'Cranidos',\n 'Crawdaunt',\n 'Cresselia',\n 'Croagunk',\n 'Crobat',\n 'Croconaw',\n 'Crustle',\n 'Cryogonal',\n 'Cubchoo',\n 'Cubone',\n 'Cyndaquil',\n 'Darkrai',\n 'DarmanitanStandard Mode',\n 'DarmanitanZen Mode',\n 'Darumaka',\n 'Dedenne',\n 'Deerling',\n 'Deino',\n 'Delcatty',\n 'Delibird',\n 'Delphox',\n 'DeoxysAttack Forme',\n 'DeoxysDefense Forme',\n 'DeoxysNormal Forme',\n 'DeoxysSpeed Forme',\n 'Dewgong',\n 'Dewott',\n 'Dialga',\n 'Diancie',\n 'DiancieMega Diancie',\n 'Diggersby',\n 'Diglett',\n 'Ditto',\n 'Dodrio',\n 'Doduo',\n 'Donphan',\n 'Doublade',\n 'Dragalge',\n 'Dragonair',\n 'Dragonite',\n 'Drapion',\n 'Dratini',\n 'Drifblim',\n 'Drifloon',\n 'Drilbur',\n 'Drowzee',\n 'Druddigon',\n 'Ducklett',\n 'Dugtrio',\n 'Dunsparce',\n 'Duosion',\n 'Durant',\n 'Dusclops',\n 'Dusknoir',\n 'Duskull',\n 'Dustox',\n 'Dwebble',\n 'Eelektrik',\n 'Eelektross',\n 'Eevee',\n 'Ekans',\n 'Electabuzz',\n 'Electivire',\n 'Electrike',\n 'Electrode',\n 'Elekid',\n 'Elgyem',\n 'Emboar',\n 'Emolga',\n 'Empoleon',\n 'Entei',\n 'Escavalier',\n 'Espeon',\n 'Espurr',\n 'Excadrill',\n 'Exeggcute',\n 'Exeggutor',\n 'Exploud',\n \"Farfetch'd\",\n 'Fearow',\n 'Feebas',\n 'Fennekin',\n 'Feraligatr',\n 'Ferroseed',\n 'Ferrothorn',\n 'Finneon',\n 'Flaaffy',\n 'Flabébé',\n 'Flareon',\n 'Fletchinder',\n 'Fletchling',\n 'Floatzel',\n 'Floette',\n 'Florges',\n 'Flygon',\n 'Foongus',\n 'Forretress',\n 'Fraxure',\n 'Frillish',\n 'Froakie',\n 'Frogadier',\n 'Froslass',\n 'Furfrou',\n 'Furret',\n 'Gabite',\n 'Gallade',\n 'GalladeMega Gallade',\n 'Galvantula',\n 'Garbodor',\n 'Garchomp',\n 'GarchompMega Garchomp',\n 'Gardevoir',\n 'GardevoirMega Gardevoir',\n 'Gastly',\n 'Gastrodon',\n 'Genesect',\n 'Gengar',\n 'GengarMega Gengar',\n 'Geodude',\n 'Gible',\n 'Gigalith',\n 'Girafarig',\n 'GiratinaAltered Forme',\n 'GiratinaOrigin Forme',\n 'Glaceon',\n 'Glalie',\n 'GlalieMega Glalie',\n 'Glameow',\n 'Gligar',\n 'Gliscor',\n 'Gloom',\n 'Gogoat',\n 'Golbat',\n 'Goldeen',\n 'Golduck',\n 'Golem',\n 'Golett',\n 'Golurk',\n 'Goodra',\n 'Goomy',\n 'Gorebyss',\n 'Gothita',\n 'Gothitelle',\n 'Gothorita',\n 'GourgeistAverage Size',\n 'GourgeistLarge Size',\n 'GourgeistSmall Size',\n 'GourgeistSuper Size',\n 'Granbull',\n 'Graveler',\n 'Greninja',\n 'Grimer',\n 'Grotle',\n 'Groudon',\n 'GroudonPrimal Groudon',\n 'Grovyle',\n 'Growlithe',\n 'Grumpig',\n 'Gulpin',\n 'Gurdurr',\n 'Gyarados',\n 'GyaradosMega Gyarados',\n 'Happiny',\n 'Hariyama',\n 'Haunter',\n 'Hawlucha',\n 'Haxorus',\n 'Heatmor',\n 'Heatran',\n 'Heliolisk',\n 'Helioptile',\n 'Heracross',\n 'HeracrossMega Heracross',\n 'Herdier',\n 'Hippopotas',\n 'Hippowdon',\n 'Hitmonchan',\n 'Hitmonlee',\n 'Hitmontop',\n 'Ho-oh',\n 'Honchkrow',\n 'Honedge',\n 'HoopaHoopa Confined',\n 'HoopaHoopa Unbound',\n 'Hoothoot',\n 'Hoppip',\n 'Horsea',\n 'Houndoom',\n 'HoundoomMega Houndoom',\n 'Houndour',\n 'Huntail',\n 'Hydreigon',\n 'Hypno',\n 'Igglybuff',\n 'Illumise',\n 'Infernape',\n 'Inkay',\n 'Ivysaur',\n 'Jellicent',\n 'Jigglypuff',\n 'Jirachi',\n 'Jolteon',\n 'Joltik',\n 'Jumpluff',\n 'Jynx',\n 'Kabuto',\n 'Kabutops',\n 'Kadabra',\n 'Kakuna',\n 'Kangaskhan',\n 'KangaskhanMega Kangaskhan',\n 'Karrablast',\n 'Kecleon',\n 'KeldeoOrdinary Forme',\n 'KeldeoResolute Forme',\n 'Kingdra',\n 'Kingler',\n 'Kirlia',\n 'Klang',\n 'Klefki',\n 'Klink',\n 'Klinklang',\n 'Koffing',\n 'Krabby',\n 'Kricketot',\n 'Kricketune',\n 'Krokorok',\n 'Krookodile',\n 'Kyogre',\n 'KyogrePrimal Kyogre',\n 'Kyurem',\n 'KyuremBlack Kyurem',\n 'KyuremWhite Kyurem',\n 'Lairon',\n 'Lampent',\n 'LandorusIncarnate Forme',\n 'LandorusTherian Forme',\n 'Lanturn',\n 'Lapras',\n 'Larvesta',\n 'Larvitar',\n 'Latias',\n 'LatiasMega Latias',\n 'Latios',\n 'LatiosMega Latios',\n 'Leafeon',\n 'Leavanny',\n 'Ledian',\n 'Ledyba',\n 'Lickilicky',\n 'Lickitung',\n 'Liepard',\n 'Lileep',\n 'Lilligant',\n 'Lillipup',\n 'Linoone',\n 'Litleo',\n 'Litwick',\n 'Lombre',\n 'Lopunny',\n 'LopunnyMega Lopunny',\n 'Lotad',\n 'Loudred',\n 'Lucario',\n 'LucarioMega Lucario',\n 'Ludicolo',\n 'Lugia',\n 'Lumineon',\n 'Lunatone',\n 'Luvdisc',\n 'Luxio',\n 'Luxray',\n 'Machamp',\n 'Machoke',\n 'Machop',\n 'Magby',\n 'Magcargo',\n 'Magikarp',\n 'Magmar',\n 'Magmortar',\n 'Magnemite',\n 'Magneton',\n 'Magnezone',\n 'Makuhita',\n 'Malamar',\n 'Mamoswine',\n 'Manaphy',\n 'Mandibuzz',\n 'Manectric',\n 'ManectricMega Manectric',\n 'Mankey',\n 'Mantine',\n 'Mantyke',\n 'Maractus',\n 'Mareep',\n 'Marill',\n 'Marowak',\n 'Marshtomp',\n 'Masquerain',\n 'Mawile',\n 'MawileMega Mawile',\n 'Medicham',\n 'MedichamMega Medicham',\n 'Meditite',\n 'Meganium',\n 'MeloettaAria Forme',\n 'MeloettaPirouette Forme',\n 'MeowsticFemale',\n 'MeowsticMale',\n 'Meowth',\n 'Mesprit',\n 'Metagross',\n 'MetagrossMega Metagross',\n 'Metang',\n 'Metapod',\n 'Mew',\n 'Mewtwo',\n 'MewtwoMega Mewtwo X',\n 'MewtwoMega Mewtwo Y',\n 'Mienfoo',\n 'Mienshao',\n 'Mightyena',\n 'Milotic',\n 'Miltank',\n 'Mime Jr.',\n 'Minccino',\n 'Minun',\n 'Misdreavus',\n 'Mismagius',\n 'Moltres',\n 'Monferno',\n 'Mothim',\n 'Mr. Mime',\n 'Mudkip',\n 'Muk',\n 'Munchlax',\n 'Munna',\n 'Murkrow',\n 'Musharna',\n 'Natu',\n 'Nidoking',\n 'Nidoqueen',\n 'Nidoran♀',\n 'Nidoran♂',\n 'Nidorina',\n 'Nidorino',\n 'Nincada',\n 'Ninetales',\n 'Ninjask',\n 'Noctowl',\n 'Noibat',\n 'Noivern',\n 'Nosepass',\n 'Numel',\n 'Nuzleaf',\n 'Octillery',\n 'Oddish',\n 'Omanyte',\n 'Omastar',\n 'Onix',\n 'Oshawott',\n 'Pachirisu',\n 'Palkia',\n 'Palpitoad',\n 'Pancham',\n 'Pangoro',\n 'Panpour',\n 'Pansage',\n 'Pansear',\n 'Paras',\n 'Parasect',\n 'Patrat',\n 'Pawniard',\n 'Pelipper',\n 'Persian',\n 'Petilil',\n 'Phanpy',\n 'Phantump',\n 'Phione',\n 'Pichu',\n 'Pidgeot',\n 'PidgeotMega Pidgeot',\n 'Pidgeotto',\n 'Pidgey',\n 'Pidove',\n 'Pignite',\n 'Pikachu',\n 'Piloswine',\n 'Pineco',\n 'Pinsir',\n 'PinsirMega Pinsir',\n 'Piplup',\n 'Plusle',\n 'Politoed',\n 'Poliwag',\n 'Poliwhirl',\n 'Poliwrath',\n 'Ponyta',\n 'Poochyena',\n 'Porygon',\n 'Porygon-Z',\n 'Porygon2',\n 'Primeape',\n 'Prinplup',\n 'Probopass',\n 'Psyduck',\n 'PumpkabooAverage Size',\n 'PumpkabooLarge Size',\n 'PumpkabooSmall Size',\n 'PumpkabooSuper Size',\n 'Pupitar',\n 'Purrloin',\n 'Purugly',\n 'Pyroar',\n 'Quagsire',\n 'Quilava',\n 'Quilladin',\n 'Qwilfish',\n 'Raichu',\n 'Raikou',\n 'Ralts',\n 'Rampardos',\n 'Rapidash',\n 'Raticate',\n 'Rattata',\n 'Rayquaza',\n 'RayquazaMega Rayquaza',\n 'Regice',\n 'Regigigas',\n 'Regirock',\n 'Registeel',\n 'Relicanth',\n 'Remoraid',\n 'Reshiram',\n 'Reuniclus',\n 'Rhydon',\n 'Rhyhorn',\n 'Rhyperior',\n 'Riolu',\n 'Roggenrola',\n 'Roselia',\n 'Roserade',\n 'Rotom',\n 'RotomFan Rotom',\n 'RotomFrost Rotom',\n 'RotomHeat Rotom',\n 'RotomMow Rotom',\n 'RotomWash Rotom',\n 'Rufflet',\n 'Sableye',\n 'SableyeMega Sableye',\n 'Salamence',\n 'SalamenceMega Salamence',\n 'Samurott',\n 'Sandile',\n 'Sandshrew',\n 'Sandslash',\n 'Sawk',\n 'Sawsbuck',\n 'Scatterbug',\n 'Sceptile',\n 'SceptileMega Sceptile',\n 'Scizor',\n 'ScizorMega Scizor',\n 'Scolipede',\n 'Scrafty',\n 'Scraggy',\n 'Scyther',\n 'Seadra',\n 'Seaking',\n 'Sealeo',\n 'Seedot',\n 'Seel',\n 'Seismitoad',\n 'Sentret',\n 'Serperior',\n 'Servine',\n 'Seviper',\n 'Sewaddle',\n 'Sharpedo',\n 'SharpedoMega Sharpedo',\n 'ShayminLand Forme',\n 'ShayminSky Forme',\n 'Shedinja',\n 'Shelgon',\n 'Shellder',\n 'Shellos',\n 'Shelmet',\n 'Shieldon',\n 'Shiftry',\n 'Shinx',\n 'Shroomish',\n 'Shuckle',\n 'Shuppet',\n 'Sigilyph',\n 'Silcoon',\n 'Simipour',\n 'Simisage',\n 'Simisear',\n 'Skarmory',\n 'Skiddo',\n 'Skiploom',\n 'Skitty',\n 'Skorupi',\n 'Skrelp',\n 'Skuntank',\n 'Slaking',\n 'Slakoth',\n 'Sliggoo',\n 'Slowbro',\n 'SlowbroMega Slowbro',\n 'Slowking',\n 'Slowpoke',\n 'Slugma',\n 'Slurpuff',\n 'Smeargle',\n 'Smoochum',\n 'Sneasel',\n 'Snivy',\n 'Snorlax',\n 'Snorunt',\n 'Snover',\n 'Snubbull',\n 'Solosis',\n 'Solrock',\n 'Spearow',\n 'Spewpa',\n 'Spheal',\n 'Spinarak',\n 'Spinda',\n 'Spiritomb',\n 'Spoink',\n 'Spritzee',\n 'Squirtle',\n 'Stantler',\n 'Staraptor',\n 'Staravia',\n 'Starly',\n 'Starmie',\n 'Staryu',\n 'Steelix',\n 'SteelixMega Steelix',\n 'Stoutland',\n 'Stunfisk',\n 'Stunky',\n 'Sudowoodo',\n 'Suicune',\n 'Sunflora',\n 'Sunkern',\n 'Surskit',\n 'Swablu',\n 'Swadloon',\n 'Swalot',\n 'Swampert',\n 'SwampertMega Swampert',\n 'Swanna',\n 'Swellow',\n 'Swinub',\n 'Swirlix',\n 'Swoobat',\n 'Sylveon',\n 'Taillow',\n 'Talonflame',\n 'Tangela',\n 'Tangrowth',\n 'Tauros',\n 'Teddiursa',\n 'Tentacool',\n 'Tentacruel',\n 'Tepig',\n 'Terrakion',\n 'Throh',\n 'ThundurusIncarnate Forme',\n 'ThundurusTherian Forme',\n 'Timburr',\n 'Tirtouga',\n 'Togekiss',\n 'Togepi',\n 'Togetic',\n 'Torchic',\n 'Torkoal',\n 'TornadusIncarnate Forme',\n 'TornadusTherian Forme',\n 'Torterra',\n 'Totodile',\n 'Toxicroak',\n 'Tranquill',\n 'Trapinch',\n 'Treecko',\n 'Trevenant',\n 'Tropius',\n 'Trubbish',\n 'Turtwig',\n 'Tympole',\n 'Tynamo',\n 'Typhlosion',\n 'Tyranitar',\n 'TyranitarMega Tyranitar',\n 'Tyrantrum',\n 'Tyrogue',\n 'Tyrunt',\n 'Umbreon',\n 'Unfezant',\n 'Unown',\n 'Ursaring',\n 'Uxie',\n 'Vanillish',\n 'Vanillite',\n 'Vanilluxe',\n 'Vaporeon',\n 'Venipede',\n 'Venomoth',\n 'Venonat',\n 'Venusaur',\n 'VenusaurMega Venusaur',\n 'Vespiquen',\n 'Vibrava',\n 'Victini',\n 'Victreebel',\n 'Vigoroth',\n 'Vileplume',\n 'Virizion',\n 'Vivillon',\n 'Volbeat',\n 'Volcanion',\n 'Volcarona',\n 'Voltorb',\n 'Vullaby',\n 'Vulpix',\n 'Wailmer',\n 'Wailord',\n 'Walrein',\n 'Wartortle',\n 'Watchog',\n 'Weavile',\n 'Weedle',\n 'Weepinbell',\n 'Weezing',\n 'Whimsicott',\n 'Whirlipede',\n 'Whiscash',\n 'Whismur',\n 'Wigglytuff',\n 'Wingull',\n 'Wobbuffet',\n 'Woobat',\n 'Wooper',\n 'WormadamPlant Cloak',\n 'WormadamSandy Cloak',\n 'WormadamTrash Cloak',\n 'Wurmple',\n 'Wynaut',\n 'Xatu',\n 'Xerneas',\n 'Yamask',\n 'Yanma',\n 'Yanmega',\n 'Yveltal',\n 'Zangoose',\n 'Zapdos',\n 'Zebstrika',\n 'Zekrom',\n 'Zigzagoon',\n 'Zoroark',\n 'Zorua',\n 'Zubat',\n 'Zweilous',\n 'Zygarde50% Forme']"
     },
     "execution_count": 36,
     "metadata": {},
     "output_type": "execute_result"
    }
   ],
   "source": [
    "# sort series\n",
    "sorted(s)"
   ],
   "metadata": {
    "collapsed": false,
    "pycharm": {
     "name": "#%%\n"
    }
   }
  },
  {
   "cell_type": "code",
   "execution_count": 37,
   "outputs": [
    {
     "data": {
      "text/plain": "'Zygarde50% Forme'"
     },
     "execution_count": 37,
     "metadata": {},
     "output_type": "execute_result"
    }
   ],
   "source": [
    "# get the last value of series (For int, the max value)\n",
    "max(s)\n"
   ],
   "metadata": {
    "collapsed": false,
    "pycharm": {
     "name": "#%%\n"
    }
   }
  },
  {
   "cell_type": "code",
   "execution_count": 38,
   "outputs": [
    {
     "data": {
      "text/plain": "array(['Bulbasaur', 'Ivysaur', 'Venusaur', 'VenusaurMega Venusaur',\n       'Charmander', 'Charmeleon', 'Charizard',\n       'CharizardMega Charizard X', 'CharizardMega Charizard Y',\n       'Squirtle', 'Wartortle', 'Blastoise', 'BlastoiseMega Blastoise',\n       'Caterpie', 'Metapod', 'Butterfree', 'Weedle', 'Kakuna',\n       'Beedrill', 'BeedrillMega Beedrill', 'Pidgey', 'Pidgeotto',\n       'Pidgeot', 'PidgeotMega Pidgeot', 'Rattata', 'Raticate', 'Spearow',\n       'Fearow', 'Ekans', 'Arbok', 'Pikachu', 'Raichu', 'Sandshrew',\n       'Sandslash', 'Nidoran♀', 'Nidorina', 'Nidoqueen', 'Nidoran♂',\n       'Nidorino', 'Nidoking', 'Clefairy', 'Clefable', 'Vulpix',\n       'Ninetales', 'Jigglypuff', 'Wigglytuff', 'Zubat', 'Golbat',\n       'Oddish', 'Gloom', 'Vileplume', 'Paras', 'Parasect', 'Venonat',\n       'Venomoth', 'Diglett', 'Dugtrio', 'Meowth', 'Persian', 'Psyduck',\n       'Golduck', 'Mankey', 'Primeape', 'Growlithe', 'Arcanine',\n       'Poliwag', 'Poliwhirl', 'Poliwrath', 'Abra', 'Kadabra', 'Alakazam',\n       'AlakazamMega Alakazam', 'Machop', 'Machoke', 'Machamp',\n       'Bellsprout', 'Weepinbell', 'Victreebel', 'Tentacool',\n       'Tentacruel', 'Geodude', 'Graveler', 'Golem', 'Ponyta', 'Rapidash',\n       'Slowpoke', 'Slowbro', 'SlowbroMega Slowbro', 'Magnemite',\n       'Magneton', \"Farfetch'd\", 'Doduo', 'Dodrio', 'Seel', 'Dewgong',\n       'Grimer', 'Muk', 'Shellder', 'Cloyster', 'Gastly', 'Haunter',\n       'Gengar', 'GengarMega Gengar', 'Onix', 'Drowzee', 'Hypno',\n       'Krabby', 'Kingler', 'Voltorb', 'Electrode', 'Exeggcute',\n       'Exeggutor', 'Cubone', 'Marowak', 'Hitmonlee', 'Hitmonchan',\n       'Lickitung', 'Koffing', 'Weezing', 'Rhyhorn', 'Rhydon', 'Chansey',\n       'Tangela', 'Kangaskhan', 'KangaskhanMega Kangaskhan', 'Horsea',\n       'Seadra', 'Goldeen', 'Seaking', 'Staryu', 'Starmie', 'Mr. Mime',\n       'Scyther', 'Jynx', 'Electabuzz', 'Magmar', 'Pinsir',\n       'PinsirMega Pinsir', 'Tauros', 'Magikarp', 'Gyarados',\n       'GyaradosMega Gyarados', 'Lapras', 'Ditto', 'Eevee', 'Vaporeon',\n       'Jolteon', 'Flareon', 'Porygon', 'Omanyte', 'Omastar', 'Kabuto',\n       'Kabutops', 'Aerodactyl', 'AerodactylMega Aerodactyl', 'Snorlax',\n       'Articuno', 'Zapdos', 'Moltres', 'Dratini', 'Dragonair',\n       'Dragonite', 'Mewtwo', 'MewtwoMega Mewtwo X',\n       'MewtwoMega Mewtwo Y', 'Mew', 'Chikorita', 'Bayleef', 'Meganium',\n       'Cyndaquil', 'Quilava', 'Typhlosion', 'Totodile', 'Croconaw',\n       'Feraligatr', 'Sentret', 'Furret', 'Hoothoot', 'Noctowl', 'Ledyba',\n       'Ledian', 'Spinarak', 'Ariados', 'Crobat', 'Chinchou', 'Lanturn',\n       'Pichu', 'Cleffa', 'Igglybuff', 'Togepi', 'Togetic', 'Natu',\n       'Xatu', 'Mareep', 'Flaaffy', 'Ampharos', 'AmpharosMega Ampharos',\n       'Bellossom', 'Marill', 'Azumarill', 'Sudowoodo', 'Politoed',\n       'Hoppip', 'Skiploom', 'Jumpluff', 'Aipom', 'Sunkern', 'Sunflora',\n       'Yanma', 'Wooper', 'Quagsire', 'Espeon', 'Umbreon', 'Murkrow',\n       'Slowking', 'Misdreavus', 'Unown', 'Wobbuffet', 'Girafarig',\n       'Pineco', 'Forretress', 'Dunsparce', 'Gligar', 'Steelix',\n       'SteelixMega Steelix', 'Snubbull', 'Granbull', 'Qwilfish',\n       'Scizor', 'ScizorMega Scizor', 'Shuckle', 'Heracross',\n       'HeracrossMega Heracross', 'Sneasel', 'Teddiursa', 'Ursaring',\n       'Slugma', 'Magcargo', 'Swinub', 'Piloswine', 'Corsola', 'Remoraid',\n       'Octillery', 'Delibird', 'Mantine', 'Skarmory', 'Houndour',\n       'Houndoom', 'HoundoomMega Houndoom', 'Kingdra', 'Phanpy',\n       'Donphan', 'Porygon2', 'Stantler', 'Smeargle', 'Tyrogue',\n       'Hitmontop', 'Smoochum', 'Elekid', 'Magby', 'Miltank', 'Blissey',\n       'Raikou', 'Entei', 'Suicune', 'Larvitar', 'Pupitar', 'Tyranitar',\n       'TyranitarMega Tyranitar', 'Lugia', 'Ho-oh', 'Celebi', 'Treecko',\n       'Grovyle', 'Sceptile', 'SceptileMega Sceptile', 'Torchic',\n       'Combusken', 'Blaziken', 'BlazikenMega Blaziken', 'Mudkip',\n       'Marshtomp', 'Swampert', 'SwampertMega Swampert', 'Poochyena',\n       'Mightyena', 'Zigzagoon', 'Linoone', 'Wurmple', 'Silcoon',\n       'Beautifly', 'Cascoon', 'Dustox', 'Lotad', 'Lombre', 'Ludicolo',\n       'Seedot', 'Nuzleaf', 'Shiftry', 'Taillow', 'Swellow', 'Wingull',\n       'Pelipper', 'Ralts', 'Kirlia', 'Gardevoir',\n       'GardevoirMega Gardevoir', 'Surskit', 'Masquerain', 'Shroomish',\n       'Breloom', 'Slakoth', 'Vigoroth', 'Slaking', 'Nincada', 'Ninjask',\n       'Shedinja', 'Whismur', 'Loudred', 'Exploud', 'Makuhita',\n       'Hariyama', 'Azurill', 'Nosepass', 'Skitty', 'Delcatty', 'Sableye',\n       'SableyeMega Sableye', 'Mawile', 'MawileMega Mawile', 'Aron',\n       'Lairon', 'Aggron', 'AggronMega Aggron', 'Meditite', 'Medicham',\n       'MedichamMega Medicham', 'Electrike', 'Manectric',\n       'ManectricMega Manectric', 'Plusle', 'Minun', 'Volbeat',\n       'Illumise', 'Roselia', 'Gulpin', 'Swalot', 'Carvanha', 'Sharpedo',\n       'SharpedoMega Sharpedo', 'Wailmer', 'Wailord', 'Numel', 'Camerupt',\n       'CameruptMega Camerupt', 'Torkoal', 'Spoink', 'Grumpig', 'Spinda',\n       'Trapinch', 'Vibrava', 'Flygon', 'Cacnea', 'Cacturne', 'Swablu',\n       'Altaria', 'AltariaMega Altaria', 'Zangoose', 'Seviper',\n       'Lunatone', 'Solrock', 'Barboach', 'Whiscash', 'Corphish',\n       'Crawdaunt', 'Baltoy', 'Claydol', 'Lileep', 'Cradily', 'Anorith',\n       'Armaldo', 'Feebas', 'Milotic', 'Castform', 'Kecleon', 'Shuppet',\n       'Banette', 'BanetteMega Banette', 'Duskull', 'Dusclops', 'Tropius',\n       'Chimecho', 'Absol', 'AbsolMega Absol', 'Wynaut', 'Snorunt',\n       'Glalie', 'GlalieMega Glalie', 'Spheal', 'Sealeo', 'Walrein',\n       'Clamperl', 'Huntail', 'Gorebyss', 'Relicanth', 'Luvdisc', 'Bagon',\n       'Shelgon', 'Salamence', 'SalamenceMega Salamence', 'Beldum',\n       'Metang', 'Metagross', 'MetagrossMega Metagross', 'Regirock',\n       'Regice', 'Registeel', 'Latias', 'LatiasMega Latias', 'Latios',\n       'LatiosMega Latios', 'Kyogre', 'KyogrePrimal Kyogre', 'Groudon',\n       'GroudonPrimal Groudon', 'Rayquaza', 'RayquazaMega Rayquaza',\n       'Jirachi', 'DeoxysNormal Forme', 'DeoxysAttack Forme',\n       'DeoxysDefense Forme', 'DeoxysSpeed Forme', 'Turtwig', 'Grotle',\n       'Torterra', 'Chimchar', 'Monferno', 'Infernape', 'Piplup',\n       'Prinplup', 'Empoleon', 'Starly', 'Staravia', 'Staraptor',\n       'Bidoof', 'Bibarel', 'Kricketot', 'Kricketune', 'Shinx', 'Luxio',\n       'Luxray', 'Budew', 'Roserade', 'Cranidos', 'Rampardos', 'Shieldon',\n       'Bastiodon', 'Burmy', 'WormadamPlant Cloak', 'WormadamSandy Cloak',\n       'WormadamTrash Cloak', 'Mothim', 'Combee', 'Vespiquen',\n       'Pachirisu', 'Buizel', 'Floatzel', 'Cherubi', 'Cherrim', 'Shellos',\n       'Gastrodon', 'Ambipom', 'Drifloon', 'Drifblim', 'Buneary',\n       'Lopunny', 'LopunnyMega Lopunny', 'Mismagius', 'Honchkrow',\n       'Glameow', 'Purugly', 'Chingling', 'Stunky', 'Skuntank', 'Bronzor',\n       'Bronzong', 'Bonsly', 'Mime Jr.', 'Happiny', 'Chatot', 'Spiritomb',\n       'Gible', 'Gabite', 'Garchomp', 'GarchompMega Garchomp', 'Munchlax',\n       'Riolu', 'Lucario', 'LucarioMega Lucario', 'Hippopotas',\n       'Hippowdon', 'Skorupi', 'Drapion', 'Croagunk', 'Toxicroak',\n       'Carnivine', 'Finneon', 'Lumineon', 'Mantyke', 'Snover',\n       'Abomasnow', 'AbomasnowMega Abomasnow', 'Weavile', 'Magnezone',\n       'Lickilicky', 'Rhyperior', 'Tangrowth', 'Electivire', 'Magmortar',\n       'Togekiss', 'Yanmega', 'Leafeon', 'Glaceon', 'Gliscor',\n       'Mamoswine', 'Porygon-Z', 'Gallade', 'GalladeMega Gallade',\n       'Probopass', 'Dusknoir', 'Froslass', 'Rotom', 'RotomHeat Rotom',\n       'RotomWash Rotom', 'RotomFrost Rotom', 'RotomFan Rotom',\n       'RotomMow Rotom', 'Uxie', 'Mesprit', 'Azelf', 'Dialga', 'Palkia',\n       'Heatran', 'Regigigas', 'GiratinaAltered Forme',\n       'GiratinaOrigin Forme', 'Cresselia', 'Phione', 'Manaphy',\n       'Darkrai', 'ShayminLand Forme', 'ShayminSky Forme', 'Arceus',\n       'Victini', 'Snivy', 'Servine', 'Serperior', 'Tepig', 'Pignite',\n       'Emboar', 'Oshawott', 'Dewott', 'Samurott', 'Patrat', 'Watchog',\n       'Lillipup', 'Herdier', 'Stoutland', 'Purrloin', 'Liepard',\n       'Pansage', 'Simisage', 'Pansear', 'Simisear', 'Panpour',\n       'Simipour', 'Munna', 'Musharna', 'Pidove', 'Tranquill', 'Unfezant',\n       'Blitzle', 'Zebstrika', 'Roggenrola', 'Boldore', 'Gigalith',\n       'Woobat', 'Swoobat', 'Drilbur', 'Excadrill', 'Audino',\n       'AudinoMega Audino', 'Timburr', 'Gurdurr', 'Conkeldurr', 'Tympole',\n       'Palpitoad', 'Seismitoad', 'Throh', 'Sawk', 'Sewaddle', 'Swadloon',\n       'Leavanny', 'Venipede', 'Whirlipede', 'Scolipede', 'Cottonee',\n       'Whimsicott', 'Petilil', 'Lilligant', 'Basculin', 'Sandile',\n       'Krokorok', 'Krookodile', 'Darumaka', 'DarmanitanStandard Mode',\n       'DarmanitanZen Mode', 'Maractus', 'Dwebble', 'Crustle', 'Scraggy',\n       'Scrafty', 'Sigilyph', 'Yamask', 'Cofagrigus', 'Tirtouga',\n       'Carracosta', 'Archen', 'Archeops', 'Trubbish', 'Garbodor',\n       'Zorua', 'Zoroark', 'Minccino', 'Cinccino', 'Gothita', 'Gothorita',\n       'Gothitelle', 'Solosis', 'Duosion', 'Reuniclus', 'Ducklett',\n       'Swanna', 'Vanillite', 'Vanillish', 'Vanilluxe', 'Deerling',\n       'Sawsbuck', 'Emolga', 'Karrablast', 'Escavalier', 'Foongus',\n       'Amoonguss', 'Frillish', 'Jellicent', 'Alomomola', 'Joltik',\n       'Galvantula', 'Ferroseed', 'Ferrothorn', 'Klink', 'Klang',\n       'Klinklang', 'Tynamo', 'Eelektrik', 'Eelektross', 'Elgyem',\n       'Beheeyem', 'Litwick', 'Lampent', 'Chandelure', 'Axew', 'Fraxure',\n       'Haxorus', 'Cubchoo', 'Beartic', 'Cryogonal', 'Shelmet',\n       'Accelgor', 'Stunfisk', 'Mienfoo', 'Mienshao', 'Druddigon',\n       'Golett', 'Golurk', 'Pawniard', 'Bisharp', 'Bouffalant', 'Rufflet',\n       'Braviary', 'Vullaby', 'Mandibuzz', 'Heatmor', 'Durant', 'Deino',\n       'Zweilous', 'Hydreigon', 'Larvesta', 'Volcarona', 'Cobalion',\n       'Terrakion', 'Virizion', 'TornadusIncarnate Forme',\n       'TornadusTherian Forme', 'ThundurusIncarnate Forme',\n       'ThundurusTherian Forme', 'Reshiram', 'Zekrom',\n       'LandorusIncarnate Forme', 'LandorusTherian Forme', 'Kyurem',\n       'KyuremBlack Kyurem', 'KyuremWhite Kyurem', 'KeldeoOrdinary Forme',\n       'KeldeoResolute Forme', 'MeloettaAria Forme',\n       'MeloettaPirouette Forme', 'Genesect', 'Chespin', 'Quilladin',\n       'Chesnaught', 'Fennekin', 'Braixen', 'Delphox', 'Froakie',\n       'Frogadier', 'Greninja', 'Bunnelby', 'Diggersby', 'Fletchling',\n       'Fletchinder', 'Talonflame', 'Scatterbug', 'Spewpa', 'Vivillon',\n       'Litleo', 'Pyroar', 'Flabébé', 'Floette', 'Florges', 'Skiddo',\n       'Gogoat', 'Pancham', 'Pangoro', 'Furfrou', 'Espurr',\n       'MeowsticMale', 'MeowsticFemale', 'Honedge', 'Doublade',\n       'AegislashBlade Forme', 'AegislashShield Forme', 'Spritzee',\n       'Aromatisse', 'Swirlix', 'Slurpuff', 'Inkay', 'Malamar', 'Binacle',\n       'Barbaracle', 'Skrelp', 'Dragalge', 'Clauncher', 'Clawitzer',\n       'Helioptile', 'Heliolisk', 'Tyrunt', 'Tyrantrum', 'Amaura',\n       'Aurorus', 'Sylveon', 'Hawlucha', 'Dedenne', 'Carbink', 'Goomy',\n       'Sliggoo', 'Goodra', 'Klefki', 'Phantump', 'Trevenant',\n       'PumpkabooAverage Size', 'PumpkabooSmall Size',\n       'PumpkabooLarge Size', 'PumpkabooSuper Size',\n       'GourgeistAverage Size', 'GourgeistSmall Size',\n       'GourgeistLarge Size', 'GourgeistSuper Size', 'Bergmite',\n       'Avalugg', 'Noibat', 'Noivern', 'Xerneas', 'Yveltal',\n       'Zygarde50% Forme', 'Diancie', 'DiancieMega Diancie',\n       'HoopaHoopa Confined', 'HoopaHoopa Unbound', 'Volcanion'],\n      dtype=object)"
     },
     "execution_count": 38,
     "metadata": {},
     "output_type": "execute_result"
    }
   ],
   "source": [
    "# get an array of values\n",
    "s.values"
   ],
   "metadata": {
    "collapsed": false,
    "pycharm": {
     "name": "#%%\n"
    }
   }
  },
  {
   "cell_type": "code",
   "execution_count": 37,
   "outputs": [],
   "source": [
    "# get an array of index values\n",
    "s.index\n"
   ],
   "metadata": {
    "collapsed": false,
    "pycharm": {
     "name": "#%%\n"
    }
   }
  },
  {
   "cell_type": "markdown",
   "source": [
    "## apply, map, mapapply"
   ],
   "metadata": {
    "collapsed": false,
    "pycharm": {
     "name": "#%% md\n"
    }
   }
  },
  {
   "cell_type": "code",
   "execution_count": 17,
   "outputs": [
    {
     "data": {
      "text/plain": "0    51.12\n1    55.10\n2    55.65\n3    53.38\n4    53.95\nName: Stock Price, dtype: float64"
     },
     "execution_count": 17,
     "metadata": {},
     "output_type": "execute_result"
    }
   ],
   "source": [
    "google = pd.read_csv('data/google_stock_price.csv', squeeze=True)\n",
    "\n",
    "# apply function / lambda\n",
    "google.apply(lambda stock_price: stock_price + 1).head()  # increment each value by 1\n"
   ],
   "metadata": {
    "collapsed": false,
    "pycharm": {
     "name": "#%%\n"
    }
   }
  },
  {
   "cell_type": "code",
   "execution_count": 16,
   "outputs": [
    {
     "data": {
      "text/plain": "0        52.12\n1        56.10\n2        56.65\n3        54.38\n4        54.95\n         ...  \n3007    774.88\n3008    773.07\n3009    775.18\n3010    773.61\n3011    784.22\nName: Stock Price, Length: 3012, dtype: float64"
     },
     "execution_count": 16,
     "metadata": {},
     "output_type": "execute_result"
    }
   ],
   "source": [
    "google.map(lambda stock_price: stock_price + 2).head()"
   ],
   "metadata": {
    "collapsed": false,
    "pycharm": {
     "name": "#%%\n"
    }
   }
  },
  {
   "cell_type": "markdown",
   "source": [
    "## inplace Parameter\n"
   ],
   "metadata": {
    "collapsed": false,
    "pycharm": {
     "name": "#%% md\n"
    }
   }
  },
  {
   "cell_type": "code",
   "execution_count": 13,
   "outputs": [],
   "source": [
    "pokemon = pd.read_csv(\"data/pokemon.csv\", usecols=['Name'], squeeze=True)\n",
    "google = pd.read_csv('data/google_stock_price.csv', squeeze=True)"
   ],
   "metadata": {
    "collapsed": false,
    "pycharm": {
     "name": "#%%\n"
    }
   }
  },
  {
   "cell_type": "code",
   "execution_count": 60,
   "outputs": [
    {
     "data": {
      "text/plain": "0    50.12\n1    54.10\n2    54.65\n3    52.38\n4    52.95\nName: Stock Price, dtype: float64"
     },
     "execution_count": 60,
     "metadata": {},
     "output_type": "execute_result"
    }
   ],
   "source": [
    "google.head()"
   ],
   "metadata": {
    "collapsed": false,
    "pycharm": {
     "name": "#%%\n"
    }
   }
  },
  {
   "cell_type": "code",
   "execution_count": 61,
   "outputs": [
    {
     "data": {
      "text/plain": "0    50.12\n1    54.10\n2    54.65\n3    52.38\n4    52.95\nName: Stock Price, dtype: float64"
     },
     "execution_count": 61,
     "metadata": {},
     "output_type": "execute_result"
    }
   ],
   "source": [
    "google.sort_values()\n",
    "google.head()"
   ],
   "metadata": {
    "collapsed": false,
    "pycharm": {
     "name": "#%%\n"
    }
   }
  },
  {
   "cell_type": "code",
   "execution_count": 62,
   "outputs": [
    {
     "data": {
      "text/plain": "11    49.95\n9     50.07\n0     50.12\n10    50.70\n12    50.74\nName: Stock Price, dtype: float64"
     },
     "execution_count": 62,
     "metadata": {},
     "output_type": "execute_result"
    }
   ],
   "source": [
    "# setting inplace True will sort the original series\n",
    "google.sort_values(inplace=True)\n",
    "google.head()"
   ],
   "metadata": {
    "collapsed": false,
    "pycharm": {
     "name": "#%%\n"
    }
   }
  },
  {
   "cell_type": "markdown",
   "source": [
    "## python's in keyword to check if value exists\n"
   ],
   "metadata": {
    "collapsed": false,
    "pycharm": {
     "name": "#%% md\n"
    }
   }
  },
  {
   "cell_type": "code",
   "execution_count": 66,
   "outputs": [],
   "source": [
    "pokemon = pd.read_csv(\"data/pokemon.csv\", usecols=['Name'], squeeze=True)\n",
    "google = pd.read_csv('data/google_stock_price.csv', squeeze=True)"
   ],
   "metadata": {
    "collapsed": false,
    "pycharm": {
     "name": "#%%\n"
    }
   }
  },
  {
   "cell_type": "code",
   "execution_count": 67,
   "outputs": [
    {
     "data": {
      "text/plain": "True"
     },
     "execution_count": 67,
     "metadata": {},
     "output_type": "execute_result"
    }
   ],
   "source": [
    "# by default in will look in index\n",
    "100 in pokemon"
   ],
   "metadata": {
    "collapsed": false,
    "pycharm": {
     "name": "#%%\n"
    }
   }
  },
  {
   "cell_type": "code",
   "execution_count": 69,
   "outputs": [
    {
     "data": {
      "text/plain": "False"
     },
     "execution_count": 69,
     "metadata": {},
     "output_type": "execute_result"
    }
   ],
   "source": [
    "\"Ivysaur\" in pokemon"
   ],
   "metadata": {
    "collapsed": false,
    "pycharm": {
     "name": "#%%\n"
    }
   }
  },
  {
   "cell_type": "code",
   "execution_count": 70,
   "outputs": [
    {
     "data": {
      "text/plain": "True"
     },
     "execution_count": 70,
     "metadata": {},
     "output_type": "execute_result"
    }
   ],
   "source": [
    "# use values attribute to search in values\n",
    "\"Ivysaur\" in pokemon.values"
   ],
   "metadata": {
    "collapsed": false,
    "pycharm": {
     "name": "#%%\n"
    }
   }
  },
  {
   "cell_type": "markdown",
   "source": [
    "## extract value by index\n"
   ],
   "metadata": {
    "collapsed": false,
    "pycharm": {
     "name": "#%% md\n"
    }
   }
  },
  {
   "cell_type": "code",
   "execution_count": 71,
   "outputs": [
    {
     "data": {
      "text/plain": "'VenusaurMega Venusaur'"
     },
     "execution_count": 71,
     "metadata": {},
     "output_type": "execute_result"
    }
   ],
   "source": [
    "# get the value at index 3\n",
    "pokemon[3]\n"
   ],
   "metadata": {
    "collapsed": false,
    "pycharm": {
     "name": "#%%\n"
    }
   }
  },
  {
   "cell_type": "code",
   "execution_count": 73,
   "outputs": [
    {
     "data": {
      "text/plain": "1         Ivysaur\n4      Charmander\n500     Hippowdon\nName: Name, dtype: object"
     },
     "execution_count": 73,
     "metadata": {},
     "output_type": "execute_result"
    }
   ],
   "source": [
    "# get multiple values (pass an array of index)\n",
    "pokemon[[1, 4, 500]]"
   ],
   "metadata": {
    "collapsed": false,
    "pycharm": {
     "name": "#%%\n"
    }
   }
  },
  {
   "cell_type": "code",
   "execution_count": 74,
   "outputs": [
    {
     "data": {
      "text/plain": "10                  Wartortle\n11                  Blastoise\n12    BlastoiseMega Blastoise\n13                   Caterpie\n14                    Metapod\n15                 Butterfree\n16                     Weedle\n17                     Kakuna\n18                   Beedrill\n19      BeedrillMega Beedrill\n20                     Pidgey\n21                  Pidgeotto\n22                    Pidgeot\n23        PidgeotMega Pidgeot\n24                    Rattata\nName: Name, dtype: object"
     },
     "execution_count": 74,
     "metadata": {},
     "output_type": "execute_result"
    }
   ],
   "source": [
    "# get by range of index\n",
    "pokemon[10:25]"
   ],
   "metadata": {
    "collapsed": false,
    "pycharm": {
     "name": "#%%\n"
    }
   }
  },
  {
   "cell_type": "code",
   "execution_count": 75,
   "outputs": [
    {
     "data": {
      "text/plain": "0                    Bulbasaur\n1                      Ivysaur\n2                     Venusaur\n3        VenusaurMega Venusaur\n4                   Charmander\n5                   Charmeleon\n6                    Charizard\n7    CharizardMega Charizard X\nName: Name, dtype: object"
     },
     "execution_count": 75,
     "metadata": {},
     "output_type": "execute_result"
    }
   ],
   "source": [
    "# get everything up to an index\n",
    "pokemon[:8]\n"
   ],
   "metadata": {
    "collapsed": false,
    "pycharm": {
     "name": "#%%\n"
    }
   }
  },
  {
   "cell_type": "code",
   "execution_count": 76,
   "outputs": [
    {
     "data": {
      "text/plain": "790                 Noibat\n791                Noivern\n792                Xerneas\n793                Yveltal\n794       Zygarde50% Forme\n795                Diancie\n796    DiancieMega Diancie\n797    HoopaHoopa Confined\n798     HoopaHoopa Unbound\n799              Volcanion\nName: Name, dtype: object"
     },
     "execution_count": 76,
     "metadata": {},
     "output_type": "execute_result"
    }
   ],
   "source": [
    "# get all everything after the -10 index\n",
    "pokemon[-10:]"
   ],
   "metadata": {
    "collapsed": false,
    "pycharm": {
     "name": "#%%\n"
    }
   }
  },
  {
   "cell_type": "markdown",
   "source": [
    "## get series by index label"
   ],
   "metadata": {
    "collapsed": false,
    "pycharm": {
     "name": "#%% md\n"
    }
   }
  },
  {
   "cell_type": "code",
   "execution_count": 10,
   "outputs": [
    {
     "data": {
      "text/plain": "Name\nBulbasaur                Grass\nIvysaur                  Grass\nVenusaur                 Grass\nVenusaurMega Venusaur    Grass\nCharmander                Fire\nName: Type 1, dtype: object"
     },
     "execution_count": 10,
     "metadata": {},
     "output_type": "execute_result"
    }
   ],
   "source": [
    "pokemon = pd.read_csv(\"data/pokemon.csv\", index_col='Name', usecols=['Name', 'Type 1'], squeeze=True)\n",
    "pokemon.head()"
   ],
   "metadata": {
    "collapsed": false,
    "pycharm": {
     "name": "#%%\n"
    }
   }
  },
  {
   "cell_type": "code",
   "execution_count": 81,
   "outputs": [
    {
     "data": {
      "text/plain": "'Fire'"
     },
     "execution_count": 81,
     "metadata": {},
     "output_type": "execute_result"
    }
   ],
   "source": [
    "# use index label to get value\n",
    "pokemon[\"Charmander\"]"
   ],
   "metadata": {
    "collapsed": false,
    "pycharm": {
     "name": "#%%\n"
    }
   }
  },
  {
   "cell_type": "code",
   "execution_count": 82,
   "outputs": [
    {
     "data": {
      "text/plain": "Name\nIvysaur       Grass\nCharmander     Fire\nName: Type 1, dtype: object"
     },
     "execution_count": 82,
     "metadata": {},
     "output_type": "execute_result"
    }
   ],
   "source": [
    "pokemon[[\"Ivysaur\", \"Charmander\"]]"
   ],
   "metadata": {
    "collapsed": false,
    "pycharm": {
     "name": "#%%\n"
    }
   }
  },
  {
   "cell_type": "code",
   "execution_count": 2,
   "outputs": [
    {
     "ename": "NameError",
     "evalue": "name 'pokemon' is not defined",
     "output_type": "error",
     "traceback": [
      "\u001B[0;31m---------------------------------------------------------------------------\u001B[0m",
      "\u001B[0;31mNameError\u001B[0m                                 Traceback (most recent call last)",
      "\u001B[0;32m<ipython-input-2-418669fdffbf>\u001B[0m in \u001B[0;36m<module>\u001B[0;34m\u001B[0m\n\u001B[1;32m      2\u001B[0m \u001B[0;31m# will generate an exception if label doesn't exist\u001B[0m\u001B[0;34m\u001B[0m\u001B[0;34m\u001B[0m\u001B[0;34m\u001B[0m\u001B[0m\n\u001B[1;32m      3\u001B[0m \u001B[0;32mtry\u001B[0m\u001B[0;34m:\u001B[0m\u001B[0;34m\u001B[0m\u001B[0;34m\u001B[0m\u001B[0m\n\u001B[0;32m----> 4\u001B[0;31m     \u001B[0mpokemon\u001B[0m\u001B[0;34m[\u001B[0m\u001B[0;34m[\u001B[0m\u001B[0;34m\"Ivysaur\"\u001B[0m\u001B[0;34m,\u001B[0m \u001B[0;34m\"Charmander\"\u001B[0m\u001B[0;34m,\u001B[0m \u001B[0;34m\"hahahah\"\u001B[0m\u001B[0;34m]\u001B[0m\u001B[0;34m]\u001B[0m\u001B[0;34m\u001B[0m\u001B[0;34m\u001B[0m\u001B[0m\n\u001B[0m\u001B[1;32m      5\u001B[0m \u001B[0;32mexcept\u001B[0m \u001B[0mKeyError\u001B[0m \u001B[0;32mas\u001B[0m \u001B[0mke\u001B[0m\u001B[0;34m:\u001B[0m\u001B[0;34m\u001B[0m\u001B[0;34m\u001B[0m\u001B[0m\n\u001B[1;32m      6\u001B[0m     \u001B[0mprint\u001B[0m\u001B[0;34m(\u001B[0m\u001B[0;34m\"one of the index labels doesn't exist\"\u001B[0m\u001B[0;34m)\u001B[0m\u001B[0;34m\u001B[0m\u001B[0;34m\u001B[0m\u001B[0m\n",
      "\u001B[0;31mNameError\u001B[0m: name 'pokemon' is not defined"
     ]
    }
   ],
   "source": [
    "# will generate an exception if label doesn't exist\n",
    "# https://pandas.pydata.org/pandas-docs/stable/user_guide/indexing.html#deprecate-loc-reindex-listlike\n",
    "try:\n",
    "    pokemon[[\"Ivysaur\", \"Charmander\", \"hahahah\"]]\n",
    "except KeyError as ke:\n",
    "    print(ke)\n",
    "    print(\"one of the index labels doesn't exist\")\n",
    "\n"
   ],
   "metadata": {
    "collapsed": false,
    "pycharm": {
     "name": "#%%\n"
    }
   }
  },
  {
   "cell_type": "code",
   "execution_count": 92,
   "outputs": [
    {
     "data": {
      "text/plain": "Name\nBulbasaur                Grass\nIvysaur                  Grass\nVenusaur                 Grass\nVenusaurMega Venusaur    Grass\nCharmander                Fire\nCharmeleon                Fire\nCharizard                 Fire\nName: Type 1, dtype: object"
     },
     "execution_count": 92,
     "metadata": {},
     "output_type": "execute_result"
    }
   ],
   "source": [
    "# get values by range\n",
    "pokemon['Bulbasaur': 'Charizard']"
   ],
   "metadata": {
    "collapsed": false,
    "pycharm": {
     "name": "#%%\n"
    }
   }
  },
  {
   "cell_type": "markdown",
   "source": [
    "## value using get method"
   ],
   "metadata": {
    "collapsed": false,
    "pycharm": {
     "name": "#%% md\n"
    }
   }
  },
  {
   "cell_type": "code",
   "execution_count": 93,
   "outputs": [
    {
     "data": {
      "text/plain": "'Grass'"
     },
     "execution_count": 93,
     "metadata": {},
     "output_type": "execute_result"
    }
   ],
   "source": [
    "# use get method\n",
    "pokemon.get('Bulbasaur')"
   ],
   "metadata": {
    "collapsed": false,
    "pycharm": {
     "name": "#%%\n"
    }
   }
  },
  {
   "cell_type": "code",
   "execution_count": 95,
   "outputs": [
    {
     "name": "stdout",
     "output_type": "stream",
     "text": [
      "None\n"
     ]
    }
   ],
   "source": [
    "# with get, if key doesn't exist it returns None\n",
    "x = pokemon.get('hahaaha')\n",
    "print(x)  # None"
   ],
   "metadata": {
    "collapsed": false,
    "pycharm": {
     "name": "#%%\n"
    }
   }
  },
  {
   "cell_type": "code",
   "execution_count": 98,
   "outputs": [
    {
     "data": {
      "text/plain": "Name\nBulbasaur    Grass\nCharizard     Fire\nName: Type 1, dtype: object"
     },
     "execution_count": 98,
     "metadata": {},
     "output_type": "execute_result"
    }
   ],
   "source": [
    "pokemon.get(['Bulbasaur', 'Charizard'])\n"
   ],
   "metadata": {
    "collapsed": false,
    "pycharm": {
     "name": "#%%\n"
    }
   }
  },
  {
   "cell_type": "code",
   "execution_count": 101,
   "outputs": [
    {
     "name": "stdout",
     "output_type": "stream",
     "text": [
      "no!!!!\n"
     ]
    }
   ],
   "source": [
    "# even if one of the index labels is invalid, the entire result is None\n",
    "x = pokemon.get(['Bulbasaur', 'Charizard', 'hahahah'])\n",
    "print(x)"
   ],
   "metadata": {
    "collapsed": false,
    "pycharm": {
     "name": "#%%\n"
    }
   }
  },
  {
   "cell_type": "code",
   "execution_count": 104,
   "outputs": [
    {
     "data": {
      "text/plain": "'no!!!!'"
     },
     "execution_count": 104,
     "metadata": {},
     "output_type": "execute_result"
    }
   ],
   "source": [
    "# can set default value in case None is returned\n",
    "pokemon.get(['Bulbasaur', 'Charizard', 'hahahah'], default='no!!!!')\n"
   ],
   "metadata": {
    "collapsed": false,
    "pycharm": {
     "name": "#%%\n"
    }
   }
  },
  {
   "cell_type": "markdown",
   "source": [
    "## count vs len (count will ignore missing values)"
   ],
   "metadata": {
    "collapsed": false,
    "pycharm": {
     "name": "#%% md\n"
    }
   }
  },
  {
   "cell_type": "markdown",
   "source": [
    "## describe method"
   ],
   "metadata": {
    "collapsed": false,
    "pycharm": {
     "name": "#%% md\n"
    }
   }
  },
  {
   "cell_type": "code",
   "source": [
    "google.describe()"
   ],
   "metadata": {
    "collapsed": false,
    "pycharm": {
     "name": "#%%\n"
    }
   },
   "execution_count": 107,
   "outputs": [
    {
     "data": {
      "text/plain": "count    3012.000000\nmean      334.310093\nstd       173.187205\nmin        49.950000\n25%       218.045000\n50%       283.315000\n75%       443.000000\nmax       782.220000\nName: Stock Price, dtype: float64"
     },
     "execution_count": 107,
     "metadata": {},
     "output_type": "execute_result"
    }
   ]
  },
  {
   "cell_type": "markdown",
   "source": [
    "## idxmax, idxmin"
   ],
   "metadata": {
    "collapsed": false,
    "pycharm": {
     "name": "#%% md\n"
    }
   }
  },
  {
   "cell_type": "code",
   "execution_count": 108,
   "outputs": [
    {
     "data": {
      "text/plain": "3011"
     },
     "execution_count": 108,
     "metadata": {},
     "output_type": "execute_result"
    }
   ],
   "source": [
    "google.idxmax()"
   ],
   "metadata": {
    "collapsed": false,
    "pycharm": {
     "name": "#%%\n"
    }
   }
  },
  {
   "cell_type": "code",
   "execution_count": 109,
   "outputs": [
    {
     "data": {
      "text/plain": "11"
     },
     "execution_count": 109,
     "metadata": {},
     "output_type": "execute_result"
    }
   ],
   "source": [
    "google.idxmin()"
   ],
   "metadata": {
    "collapsed": false,
    "pycharm": {
     "name": "#%%\n"
    }
   }
  },
  {
   "cell_type": "code",
   "execution_count": 110,
   "outputs": [
    {
     "data": {
      "text/plain": "49.95"
     },
     "execution_count": 110,
     "metadata": {},
     "output_type": "execute_result"
    }
   ],
   "source": [
    "# get min value using idxmin\n",
    "google[google.idxmin()]"
   ],
   "metadata": {
    "collapsed": false,
    "pycharm": {
     "name": "#%%\n"
    }
   }
  },
  {
   "cell_type": "markdown",
   "source": [
    "## value_counts"
   ],
   "metadata": {
    "collapsed": false,
    "pycharm": {
     "name": "#%% md\n"
    }
   }
  },
  {
   "cell_type": "code",
   "execution_count": 12,
   "outputs": [
    {
     "data": {
      "text/plain": "Water       112\nNormal       98\nGrass        70\nBug          69\nPsychic      57\nFire         52\nRock         44\nElectric     44\nGround       32\nGhost        32\nDragon       32\nDark         31\nPoison       28\nFighting     27\nSteel        27\nIce          24\nFairy        17\nFlying        4\nName: Type 1, dtype: int64"
     },
     "execution_count": 12,
     "metadata": {},
     "output_type": "execute_result"
    }
   ],
   "source": [
    "pokemon.value_counts()"
   ],
   "metadata": {
    "collapsed": false,
    "pycharm": {
     "name": "#%%\n"
    }
   }
  },
  {
   "cell_type": "code",
   "execution_count": null,
   "outputs": [],
   "source": [
    "\n"
   ],
   "metadata": {
    "collapsed": false,
    "pycharm": {
     "name": "#%%\n"
    }
   }
  }
 ],
 "metadata": {
  "kernelspec": {
   "display_name": "Python 3",
   "language": "python",
   "name": "python3"
  },
  "language_info": {
   "codemirror_mode": {
    "name": "ipython",
    "version": 2
   },
   "file_extension": ".py",
   "mimetype": "text/x-python",
   "name": "python",
   "nbconvert_exporter": "python",
   "pygments_lexer": "ipython2",
   "version": "2.7.6"
  }
 },
 "nbformat": 4,
 "nbformat_minor": 0
}
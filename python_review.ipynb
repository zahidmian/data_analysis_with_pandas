{
 "cells": [
  {
   "cell_type": "code",
   "execution_count": 1,
   "metadata": {
    "collapsed": true
   },
   "outputs": [],
   "source": [
    "import pandas as pd\n",
    "import numpy as np\n",
    "import matplotlib.pyplot as plt\n",
    "\n",
    "%matplotlib inline\n"
   ]
  },
  {
   "cell_type": "markdown",
   "source": [
    "# Python Review"
   ],
   "metadata": {
    "collapsed": false
   }
  },
  {
   "cell_type": "markdown",
   "source": [
    "## Data Types"
   ],
   "metadata": {
    "collapsed": false
   }
  },
  {
   "cell_type": "code",
   "execution_count": 2,
   "outputs": [
    {
     "name": "stdout",
     "output_type": "stream",
     "text": [
      "<class 'str'>\n",
      "<class 'float'>\n",
      "<class 'complex'>\n",
      "1.0 + 4.0\n",
      "1.0 + 2.0\n"
     ]
    }
   ],
   "source": [
    "# text\n",
    "s = \"hello world\"\n",
    "print(type(s)) # <class 'str'>\n",
    "\n",
    "# numeric\n",
    "# int\n",
    "i = 9\n",
    "# float\n",
    "f = 1.2939393\n",
    "print(type(f))\n",
    "\n",
    "# complex\n",
    "c = complex(1, 4) # real = 1, imaginary= 4\n",
    "print(type(c)) # <class 'complex'>\n",
    "print(f'{c.real} + {c.imag}')\n",
    "# another way to create complex value\n",
    "c = complex(1+2j) # real = 1, imaginary= 4\n",
    "print(f'{c.real} + {c.imag}')\n"
   ],
   "metadata": {
    "collapsed": false,
    "pycharm": {
     "name": "#%%\n"
    }
   }
  },
  {
   "cell_type": "code",
   "execution_count": 101,
   "outputs": [
    {
     "name": "stdout",
     "output_type": "stream",
     "text": [
      "<class 'list'>\n",
      "type of list: <class 'int'>, type of list[2]: <class 'tuple'>\n",
      "is 'hello' in list l? True\n",
      "type of t: <class 'tuple'>, value of second element of t: 6\n",
      "<class 'range'>\n",
      "min/max of r: 0/5\n",
      "min/max of r: 2/14\n",
      "2 5 8 11 14\n",
      "1 6 7\n"
     ]
    }
   ],
   "source": [
    "# Sequence\n",
    "# list\n",
    "l = [1, 2, 'hello', (1,2)]\n",
    "print(type(l))  # <class 'list>\n",
    "print(f'type of list: {type(l[0])}, type of list[2]: {type(l[3])}')\n",
    "\n",
    "# check if value exists \n",
    "found_id = 'hello' in l\n",
    "print(f\"is 'hello' in list l? {found_id}\")\n",
    "\n",
    "# tuple\n",
    "t = (1, 6, 7)\n",
    "print(f'type of t: {type(t)}, value of second element of t: {t[1]}')\n",
    "\n",
    "# range\n",
    "r = range(6)\n",
    "print(type(r))  # <class 'range'>\n",
    "print(f'min/max of r: {min(r)}/{max(r)}')  # min/max of r: 0/5\n",
    "\n",
    "r = range(2, 15, 3)  # starts at 2, ends before 15, increments by 3\n",
    "print(f'min/max of r: {min(r)}/{max(r)}')  # min/max of r: 2/14\n",
    "print(*r)  # * \"unpacks\" the values\n",
    "print(*t)  # print each value of tuple t\n"
   ],
   "metadata": {
    "collapsed": false,
    "pycharm": {
     "name": "#%%\n"
    }
   }
  },
  {
   "cell_type": "code",
   "execution_count": null,
   "outputs": [],
   "source": [
    "# mapping\n",
    "d = dict()\n",
    "d[\"1\"] = \"one\"\n",
    "d[\"2\"] = \"two\"\n",
    "d[\"9\"] = \"nine\"\n",
    "print(*d)  # will print all the keys in the dictionary\n",
    "print(*d.values())  # will print all the values in the dictionary\n",
    "print(*d.keys())  # will print all the keys in the dictionary\n",
    "\n",
    "# create a dictionary in one step\n",
    "d = {\"1\": \"one\", \"2\": \"two\", \"9\": \"nine\"}\n",
    "print(*d.values())"
   ],
   "metadata": {
    "collapsed": false,
    "pycharm": {
     "name": "#%%\n"
    }
   }
  },
  {
   "cell_type": "code",
   "execution_count": 46,
   "outputs": [
    {
     "name": "stdout",
     "output_type": "stream",
     "text": [
      "1 2 3\n",
      "1 2 3\n",
      "stacy mike sandra adam maria\n",
      "stacy mike sandra donald adam maria\n"
     ]
    }
   ],
   "source": [
    "# Set\n",
    "st = set([1,2,3])\n",
    "print(*st)\n",
    "st = set([1,2,3,1])\n",
    "print(*st)  # notice it ignores the second value of 1\n",
    "st = set([\"adam\", \"mike\", \"maria\", \"adam\", \"sandra\", \"maria\", \"stacy\"])\n",
    "print(*st)  # notice the order is different because a set is unordered\n",
    "# add to a set\n",
    "st.add(\"donald\")\n",
    "print(*st)  #"
   ],
   "metadata": {
    "collapsed": false,
    "pycharm": {
     "name": "#%%\n"
    }
   }
  },
  {
   "cell_type": "code",
   "execution_count": 51,
   "outputs": [
    {
     "name": "stdout",
     "output_type": "stream",
     "text": [
      "stacy mike sandra adam maria\n",
      "stacy mike sandra adam maria\n"
     ]
    }
   ],
   "source": [
    "# frozenset\n",
    "st = frozenset([\"adam\", \"mike\", \"maria\", \"adam\", \"sandra\", \"maria\", \"stacy\"])\n",
    "print(*st)  # notice the order is different because a set is unordered\n",
    "# can't add to a frozenset\n",
    "try:\n",
    "    # frozenset doesn't have add method, so will raise exception\n",
    "    st.add(\"donald\")\n",
    "except AttributeError:\n",
    "    pass\n",
    "\n",
    "print(*st) # notice the set didn't change"
   ],
   "metadata": {
    "collapsed": false,
    "pycharm": {
     "name": "#%%\n"
    }
   }
  },
  {
   "cell_type": "code",
   "execution_count": 55,
   "outputs": [
    {
     "name": "stdout",
     "output_type": "stream",
     "text": [
      "b type: <class 'bool'>, b val: True\n",
      "b type: <class 'bool'>, b val: False\n",
      "b type: <class 'bool'>, b val: False\n",
      "b type: <class 'int'>, b val: 1\n",
      "b type: <class 'int'>, b val: 0\n",
      "b type: <class 'bool'>, b val: True\n",
      "b type: <class 'bool'>, b val: False\n",
      "b type: <class 'bool'>, b val: True\n"
     ]
    }
   ],
   "source": [
    "# Boolean\n",
    "b = True\n",
    "print(f'b type: {type(b)}, b val: {b}')\n",
    "b = not True  # False\n",
    "print(f'b type: {type(b)}, b val: {b}')\n",
    "b = False\n",
    "print(f'b type: {type(b)}, b val: {b}')\n",
    "\n",
    "# assigning 1 or 0 to a variable doesn't make it a bool\n",
    "b = 1\n",
    "print(f'b type: {type(b)}, b val: {b}')\n",
    "b = 0\n",
    "print(f'b type: {type(b)}, b val: {b}')\n",
    "\n",
    "# cast it to bool if necessary\n",
    "b = bool(1)\n",
    "print(f'b type: {type(b)}, b val: {b}')\n",
    "b = bool(\"\")\n",
    "print(f'b type: {type(b)}, b val: {b}')  # empty string is False\n",
    "b = bool(\" \")\n",
    "print(f'b type: {type(b)}, b val: {b}')  # non-empty string is True"
   ],
   "metadata": {
    "collapsed": false,
    "pycharm": {
     "name": "#%%\n"
    }
   }
  },
  {
   "cell_type": "code",
   "execution_count": 100,
   "outputs": [
    {
     "name": "stdout",
     "output_type": "stream",
     "text": [
      "bt type: <class 'bytes'>, bt val: b'hello'\n"
     ]
    }
   ],
   "source": [
    "# Binary\n",
    "# bytes\n",
    "bt = b'hello'  # makes the string a byte\n",
    "print(f'bt type: {type(bt)}, bt val: {bt}')"
   ],
   "metadata": {
    "collapsed": false,
    "pycharm": {
     "name": "#%%\n"
    }
   }
  },
  {
   "cell_type": "code",
   "execution_count": 70,
   "outputs": [
    {
     "name": "stdout",
     "output_type": "stream",
     "text": [
      "104 101 108 108 111\n",
      "109 101 108 108 111\n",
      "mello\n"
     ]
    }
   ],
   "source": [
    "# bytearray\n",
    "ba = bytearray(\"hello\".encode('utf-8'))\n",
    "print(*ba)\n",
    "ba[0] = 109\n",
    "print(*ba)\n",
    "print(ba.decode())"
   ],
   "metadata": {
    "collapsed": false,
    "pycharm": {
     "name": "#%%\n"
    }
   }
  },
  {
   "cell_type": "code",
   "execution_count": 76,
   "outputs": [
    {
     "name": "stdout",
     "output_type": "stream",
     "text": [
      "bytearray(b'hello')\n",
      "<class 'memoryview'>\n",
      "<memory at 0x124bb1bb0>\n",
      "104\n",
      "bytearray(b'hdllo')\n"
     ]
    }
   ],
   "source": [
    "# memoryview\n",
    "# memoryview objects allow Python code to access the internal data of an object that supports the buffer protocol\n",
    "# without copying.\n",
    "\n",
    "original_value = bytearray(\"hello\".encode())\n",
    "print(original_value)\n",
    "mv = memoryview(original_value)\n",
    "print(type(mv))\n",
    "print(mv)  # print the memory address of variable\n",
    "print(mv[0])  # print the value of first element of variable\n",
    "# change something about the varialbe\n",
    "mv[1] = 100\n",
    "print(original_value)"
   ],
   "metadata": {
    "collapsed": false,
    "pycharm": {
     "name": "#%%\n"
    }
   }
  },
  {
   "cell_type": "markdown",
   "source": [
    "### Lists"
   ],
   "metadata": {
    "collapsed": false
   }
  },
  {
   "cell_type": "code",
   "execution_count": 99,
   "outputs": [
    {
     "name": "stdout",
     "output_type": "stream",
     "text": [
      "[1, True, 'hello', 2.43433]\n",
      "True\n",
      "[1, True, 2.43433]\n",
      "[True, 2.43433]\n",
      "['', 'TRUE', 0, 1, None]\n"
     ]
    }
   ],
   "source": [
    "# list is basically an array\n",
    "# list are defined by using square brackets\n",
    "# list can hold any type of data ... int, str, bool, etc.\n",
    "# each item has an index (starting at 0)\n",
    "l = [1, True, 'hello', 2.43433]\n",
    "print(l)  # [1, True, 'hello', 2.43433]\n",
    "print(l[1])  # True\n",
    "\n",
    "# use remove method to remove a particular item\n",
    "# 'hello' will be removed\n",
    "l.remove('hello')\n",
    "print(l)  # [1, True, 2.43433]\n",
    "\n",
    "# need to be careful because remove ignores type\n",
    "# removing True should remove the True element but instead it removes 1\n",
    "l.remove(True)\n",
    "print(l)  # [True, 2.43433]\n",
    "\n",
    "# this time the first element is an empty string (which is evaluated to False by python)\n",
    "l = [\"\", True, \"TRUE\", 0, 1, None]\n",
    "l.remove(True)\n",
    "# so this time the second element is removed (the actual value of True)\n",
    "print(l)  # ['', 'TRUE', 0, 1, None]\n",
    "\n"
   ],
   "metadata": {
    "collapsed": false,
    "pycharm": {
     "name": "#%%\n"
    }
   }
  },
  {
   "cell_type": "markdown",
   "source": [
    "### Dictionaries"
   ],
   "metadata": {
    "collapsed": false
   }
  },
  {
   "cell_type": "code",
   "source": [
    "# key:value pairs of items\n",
    "# unordered\n",
    "d = {\"1\": \"one\", \"2\": \"two\", \"9\": \"nine\"}\n",
    "\n",
    "# reference by key\n",
    "print(d[\"1\"])\n",
    "\n",
    "# add/update by key\n",
    "d[\"3\"] = \"tree\"\n",
    "print(d.values())\n",
    "d[\"3\"] = \"three\"\n",
    "print(d.values())\n",
    "\n",
    "# remove by using del keyword\n",
    "del d[\"3\"]\n",
    "print(d.values())\n"
   ],
   "metadata": {
    "collapsed": false,
    "pycharm": {
     "name": "#%%\n"
    }
   },
   "execution_count": 84,
   "outputs": [
    {
     "name": "stdout",
     "output_type": "stream",
     "text": [
      "one\n",
      "dict_values(['one', 'two', 'nine', 'tree'])\n",
      "dict_values(['one', 'two', 'nine', 'three'])\n",
      "dict_values(['one', 'two', 'nine'])\n"
     ]
    }
   ]
  }
 ],
 "metadata": {
  "kernelspec": {
   "display_name": "Python 3",
   "language": "python",
   "name": "python3"
  },
  "language_info": {
   "codemirror_mode": {
    "name": "ipython",
    "version": 2
   },
   "file_extension": ".py",
   "mimetype": "text/x-python",
   "name": "python",
   "nbconvert_exporter": "python",
   "pygments_lexer": "ipython2",
   "version": "2.7.6"
  }
 },
 "nbformat": 4,
 "nbformat_minor": 0
}
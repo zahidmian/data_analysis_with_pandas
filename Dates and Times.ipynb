{
 "cells": [
  {
   "cell_type": "code",
   "execution_count": 1,
   "metadata": {},
   "outputs": [],
   "source": [
    "import pandas as pd\n",
    "import datetime as dt"
   ]
  },
  {
   "cell_type": "markdown",
   "metadata": {},
   "source": [
    "## review of python DateTime"
   ]
  },
  {
   "cell_type": "code",
   "execution_count": 12,
   "metadata": {},
   "outputs": [
    {
     "data": {
      "text/plain": [
       "'2020-03-14'"
      ]
     },
     "execution_count": 12,
     "metadata": {},
     "output_type": "execute_result"
    }
   ],
   "source": [
    "adate = dt.date(2020, 3,14)\n",
    "str(adate)"
   ]
  },
  {
   "cell_type": "code",
   "execution_count": 6,
   "metadata": {},
   "outputs": [
    {
     "data": {
      "text/plain": [
       "['__repr__',\n",
       " '__hash__',\n",
       " '__str__',\n",
       " '__getattribute__',\n",
       " '__lt__',\n",
       " '__le__',\n",
       " '__eq__',\n",
       " '__ne__',\n",
       " '__gt__',\n",
       " '__ge__',\n",
       " '__add__',\n",
       " '__radd__',\n",
       " '__sub__',\n",
       " '__rsub__',\n",
       " '__new__',\n",
       " 'fromtimestamp',\n",
       " 'fromordinal',\n",
       " 'fromisoformat',\n",
       " 'today',\n",
       " 'ctime',\n",
       " 'strftime',\n",
       " '__format__',\n",
       " 'timetuple',\n",
       " 'isocalendar',\n",
       " 'isoformat',\n",
       " 'isoweekday',\n",
       " 'toordinal',\n",
       " 'weekday',\n",
       " 'replace',\n",
       " '__reduce__',\n",
       " 'year',\n",
       " 'month',\n",
       " 'day',\n",
       " '__doc__',\n",
       " 'min',\n",
       " 'max',\n",
       " 'resolution',\n",
       " '__setattr__',\n",
       " '__delattr__',\n",
       " '__init__',\n",
       " '__reduce_ex__',\n",
       " '__subclasshook__',\n",
       " '__init_subclass__',\n",
       " '__sizeof__',\n",
       " '__dir__',\n",
       " '__class__']"
      ]
     },
     "execution_count": 6,
     "metadata": {},
     "output_type": "execute_result"
    }
   ],
   "source": [
    "# all attributes/functions available for datetime object\n",
    "adate.__dir__()"
   ]
  },
  {
   "cell_type": "code",
   "execution_count": 7,
   "metadata": {},
   "outputs": [
    {
     "data": {
      "text/plain": [
       "2020"
      ]
     },
     "execution_count": 7,
     "metadata": {},
     "output_type": "execute_result"
    }
   ],
   "source": [
    "adate.year"
   ]
  },
  {
   "cell_type": "code",
   "execution_count": 11,
   "metadata": {},
   "outputs": [
    {
     "data": {
      "text/plain": [
       "'2008-11-08 15:55:59'"
      ]
     },
     "execution_count": 11,
     "metadata": {},
     "output_type": "execute_result"
    }
   ],
   "source": [
    "adatetime = dt.datetime(2008, 11, 8, 15, 55, 59)\n",
    "str(adatetime)"
   ]
  },
  {
   "cell_type": "code",
   "execution_count": 19,
   "metadata": {},
   "outputs": [
    {
     "data": {
      "text/plain": [
       "'November 08, 2008 03:55 PM'"
      ]
     },
     "execution_count": 19,
     "metadata": {},
     "output_type": "execute_result"
    }
   ],
   "source": [
    "# user string formatting to format a date\n",
    "adatetime.__dir__()\n",
    "adatetime.strftime('%B %d, %Y %I:%M %p' )"
   ]
  },
  {
   "cell_type": "markdown",
   "metadata": {},
   "source": [
    "## pandas Timestamp object"
   ]
  },
  {
   "cell_type": "code",
   "execution_count": 20,
   "metadata": {},
   "outputs": [
    {
     "data": {
      "text/plain": [
       "Timestamp('2025-03-24 00:00:00')"
      ]
     },
     "execution_count": 20,
     "metadata": {},
     "output_type": "execute_result"
    }
   ],
   "source": [
    "pd.Timestamp(\"2025-03-24\")"
   ]
  },
  {
   "cell_type": "code",
   "execution_count": 21,
   "metadata": {},
   "outputs": [
    {
     "data": {
      "text/plain": [
       "Timestamp('2025-03-24 00:00:00')"
      ]
     },
     "execution_count": 21,
     "metadata": {},
     "output_type": "execute_result"
    }
   ],
   "source": [
    "pd.Timestamp(\"2025/03/24\")"
   ]
  },
  {
   "cell_type": "code",
   "execution_count": 22,
   "metadata": {},
   "outputs": [
    {
     "data": {
      "text/plain": [
       "Timestamp('2025-03-24 00:00:00')"
      ]
     },
     "execution_count": 22,
     "metadata": {},
     "output_type": "execute_result"
    }
   ],
   "source": [
    "pd.Timestamp(\"2025, 03, 24\")"
   ]
  },
  {
   "cell_type": "code",
   "execution_count": 23,
   "metadata": {},
   "outputs": [
    {
     "data": {
      "text/plain": [
       "Timestamp('2015-03-24 00:00:00')"
      ]
     },
     "execution_count": 23,
     "metadata": {},
     "output_type": "execute_result"
    }
   ],
   "source": [
    "pd.Timestamp(\"3/24/2015\")"
   ]
  },
  {
   "cell_type": "code",
   "execution_count": 24,
   "metadata": {},
   "outputs": [
    {
     "data": {
      "text/plain": [
       "Timestamp('2025-04-03 00:00:00')"
      ]
     },
     "execution_count": 24,
     "metadata": {},
     "output_type": "execute_result"
    }
   ],
   "source": [
    "pd.Timestamp(\"4/3/2025\")"
   ]
  },
  {
   "cell_type": "code",
   "execution_count": 25,
   "metadata": {},
   "outputs": [
    {
     "data": {
      "text/plain": [
       "Timestamp('2025-03-24 09:25:15')"
      ]
     },
     "execution_count": 25,
     "metadata": {},
     "output_type": "execute_result"
    }
   ],
   "source": [
    "pd.Timestamp(\"2025-03-24 9:25:15\")"
   ]
  },
  {
   "cell_type": "code",
   "execution_count": 26,
   "metadata": {},
   "outputs": [
    {
     "data": {
      "text/plain": [
       "Timestamp('2025-03-24 21:25:00')"
      ]
     },
     "execution_count": 26,
     "metadata": {},
     "output_type": "execute_result"
    }
   ],
   "source": [
    "pd.Timestamp(\"2025-03-24 9:25 pm\")"
   ]
  },
  {
   "cell_type": "code",
   "execution_count": 28,
   "metadata": {},
   "outputs": [
    {
     "data": {
      "text/plain": [
       "['__module__',\n",
       " '__doc__',\n",
       " 'fromordinal',\n",
       " 'now',\n",
       " 'today',\n",
       " 'utcnow',\n",
       " 'utcfromtimestamp',\n",
       " 'fromtimestamp',\n",
       " 'strptime',\n",
       " 'combine',\n",
       " '__new__',\n",
       " '_round',\n",
       " 'round',\n",
       " 'floor',\n",
       " 'ceil',\n",
       " 'tz',\n",
       " '__setstate__',\n",
       " '__reduce__',\n",
       " 'to_period',\n",
       " 'dayofweek',\n",
       " 'day_name',\n",
       " 'month_name',\n",
       " 'dayofyear',\n",
       " 'week',\n",
       " 'weekofyear',\n",
       " 'quarter',\n",
       " 'days_in_month',\n",
       " 'daysinmonth',\n",
       " 'freqstr',\n",
       " 'is_month_start',\n",
       " 'is_month_end',\n",
       " 'is_quarter_start',\n",
       " 'is_quarter_end',\n",
       " 'is_year_start',\n",
       " 'is_year_end',\n",
       " 'is_leap_year',\n",
       " 'tz_localize',\n",
       " 'tz_convert',\n",
       " 'astimezone',\n",
       " 'replace',\n",
       " 'isoformat',\n",
       " '_has_time_component',\n",
       " 'to_julian_date',\n",
       " 'normalize',\n",
       " '__radd__',\n",
       " '__dict__',\n",
       " '__weakref__',\n",
       " 'min',\n",
       " 'max',\n",
       " 'resolution',\n",
       " '__repr__',\n",
       " '__hash__',\n",
       " '__lt__',\n",
       " '__le__',\n",
       " '__eq__',\n",
       " '__ne__',\n",
       " '__gt__',\n",
       " '__ge__',\n",
       " '__add__',\n",
       " '__sub__',\n",
       " '__rsub__',\n",
       " '__reduce_ex__',\n",
       " 'to_pydatetime',\n",
       " 'to_datetime64',\n",
       " 'to_numpy',\n",
       " '_get_start_end_field',\n",
       " '_get_date_name_field',\n",
       " 'timestamp',\n",
       " '_repr_base',\n",
       " '_date_repr',\n",
       " '_time_repr',\n",
       " '_short_repr',\n",
       " 'asm8',\n",
       " 'value',\n",
       " 'nanosecond',\n",
       " 'freq',\n",
       " '_date_attributes',\n",
       " '__pyx_vtable__',\n",
       " '__array_priority__',\n",
       " '__str__',\n",
       " '__getattribute__',\n",
       " 'fromisoformat',\n",
       " 'date',\n",
       " 'time',\n",
       " 'timetz',\n",
       " 'ctime',\n",
       " 'timetuple',\n",
       " 'utctimetuple',\n",
       " 'utcoffset',\n",
       " 'tzname',\n",
       " 'dst',\n",
       " 'hour',\n",
       " 'minute',\n",
       " 'second',\n",
       " 'microsecond',\n",
       " 'tzinfo',\n",
       " 'fold',\n",
       " 'strftime',\n",
       " '__format__',\n",
       " 'isocalendar',\n",
       " 'isoweekday',\n",
       " 'toordinal',\n",
       " 'weekday',\n",
       " 'year',\n",
       " 'month',\n",
       " 'day',\n",
       " '__setattr__',\n",
       " '__delattr__',\n",
       " '__init__',\n",
       " '__subclasshook__',\n",
       " '__init_subclass__',\n",
       " '__sizeof__',\n",
       " '__dir__',\n",
       " '__class__']"
      ]
     },
     "execution_count": 28,
     "metadata": {},
     "output_type": "execute_result"
    }
   ],
   "source": [
    "# pandas offers a lot more features\n",
    "pdt = pd.Timestamp(\"2025-03-24\")\n",
    "pdt.__dir__()"
   ]
  },
  {
   "cell_type": "code",
   "execution_count": 31,
   "metadata": {},
   "outputs": [
    {
     "data": {
      "text/plain": [
       "DatetimeIndex(['2019-12-09', '2017-03-30', '2021-09-30'], dtype='datetime64[ns]', freq=None)"
      ]
     },
     "execution_count": 31,
     "metadata": {},
     "output_type": "execute_result"
    }
   ],
   "source": [
    "dates = [\"2019-12-9\", \"2017-3-30\", \"2021-9-30\"]\n",
    "dtidx = pd.DatetimeIndex(dates)\n",
    "dtidx"
   ]
  },
  {
   "cell_type": "code",
   "execution_count": 32,
   "metadata": {},
   "outputs": [
    {
     "data": {
      "text/plain": [
       "2019-12-09    100\n",
       "2017-03-30    200\n",
       "2021-09-30    400\n",
       "dtype: int64"
      ]
     },
     "execution_count": 32,
     "metadata": {},
     "output_type": "execute_result"
    }
   ],
   "source": [
    "values = [100, 200, 400]\n",
    "pd.Series(data=values, index=dtidx)"
   ]
  },
  {
   "cell_type": "markdown",
   "metadata": {},
   "source": [
    "## user pd.to_datetime() to convert various time formats "
   ]
  },
  {
   "cell_type": "code",
   "execution_count": 33,
   "metadata": {},
   "outputs": [
    {
     "data": {
      "text/plain": [
       "DatetimeIndex(['2019-12-09', '2017-03-30', '2021-09-30'], dtype='datetime64[ns]', freq=None)"
      ]
     },
     "execution_count": 33,
     "metadata": {},
     "output_type": "execute_result"
    }
   ],
   "source": [
    "dates = [\"2019-12-9\", \"2017-3-30\", \"Sep 30, 2021\"]\n",
    "pd.to_datetime(dates)"
   ]
  },
  {
   "cell_type": "code",
   "execution_count": 35,
   "metadata": {},
   "outputs": [
    {
     "data": {
      "text/plain": [
       "DatetimeIndex(['2019-12-09', '2017-03-30', 'NaT', '2021-09-30'], dtype='datetime64[ns]', freq=None)"
      ]
     },
     "execution_count": 35,
     "metadata": {},
     "output_type": "execute_result"
    }
   ],
   "source": [
    "# user errors=\"coerce\" to set invalid value to 'NaT'\n",
    "dates = [\"2019-12-9\", \"2017-3-30\", \"hi\", \"Sep 30, 2021\"]\n",
    "pd.to_datetime(dates, errors=\"coerce\")"
   ]
  },
  {
   "cell_type": "markdown",
   "metadata": {},
   "source": [
    "## Create Date Ranges with date_range()"
   ]
  },
  {
   "cell_type": "code",
   "execution_count": 36,
   "metadata": {},
   "outputs": [
    {
     "data": {
      "text/plain": [
       "DatetimeIndex(['2018-01-01', '2018-01-02', '2018-01-03', '2018-01-04',\n",
       "               '2018-01-05', '2018-01-06', '2018-01-07', '2018-01-08',\n",
       "               '2018-01-09', '2018-01-10', '2018-01-11', '2018-01-12',\n",
       "               '2018-01-13'],\n",
       "              dtype='datetime64[ns]', freq='D')"
      ]
     },
     "execution_count": 36,
     "metadata": {},
     "output_type": "execute_result"
    }
   ],
   "source": [
    "pd.date_range('2018-01-01', '2018-01-13', freq=\"D\")"
   ]
  },
  {
   "cell_type": "code",
   "execution_count": null,
   "metadata": {},
   "outputs": [],
   "source": [
    "pd.date_range('2018-01-01', '2018-01-13', freq=\"D\")"
   ]
  },
  {
   "cell_type": "code",
   "execution_count": 42,
   "metadata": {},
   "outputs": [
    {
     "data": {
      "text/plain": [
       "DatetimeIndex(['2018-01-01', '2018-01-04', '2018-01-07', '2018-01-10',\n",
       "               '2018-01-13'],\n",
       "              dtype='datetime64[ns]', freq='3D')"
      ]
     },
     "execution_count": 42,
     "metadata": {},
     "output_type": "execute_result"
    }
   ],
   "source": [
    "# every third day\n",
    "pd.date_range('2018-01-01', '2018-01-13', freq=\"3D\")"
   ]
  },
  {
   "cell_type": "code",
   "execution_count": 41,
   "metadata": {},
   "outputs": [
    {
     "data": {
      "text/plain": [
       "DatetimeIndex(['2018-01-01', '2018-01-02', '2018-01-03', '2018-01-04',\n",
       "               '2018-01-05', '2018-01-08', '2018-01-09', '2018-01-10',\n",
       "               '2018-01-11', '2018-01-12'],\n",
       "              dtype='datetime64[ns]', freq='B')"
      ]
     },
     "execution_count": 41,
     "metadata": {},
     "output_type": "execute_result"
    }
   ],
   "source": [
    "# business days\n",
    "pd.date_range('2018-01-01', '2018-01-13', freq=\"B\")"
   ]
  },
  {
   "cell_type": "code",
   "execution_count": 43,
   "metadata": {},
   "outputs": [
    {
     "data": {
      "text/plain": [
       "DatetimeIndex(['2018-01-07', '2018-01-14', '2018-01-21', '2018-01-28',\n",
       "               '2018-02-04', '2018-02-11', '2018-02-18', '2018-02-25',\n",
       "               '2018-03-04', '2018-03-11'],\n",
       "              dtype='datetime64[ns]', freq='W-SUN')"
      ]
     },
     "execution_count": 43,
     "metadata": {},
     "output_type": "execute_result"
    }
   ],
   "source": [
    "# by week, by first Sunday\n",
    "pd.date_range('2018-01-01', '2018-03-13', freq=\"W\")"
   ]
  },
  {
   "cell_type": "code",
   "execution_count": 45,
   "metadata": {},
   "outputs": [
    {
     "data": {
      "text/plain": [
       "DatetimeIndex(['2018-01-01', '2018-01-08', '2018-01-15', '2018-01-22',\n",
       "               '2018-01-29', '2018-02-05', '2018-02-12', '2018-02-19',\n",
       "               '2018-02-26', '2018-03-05', '2018-03-12'],\n",
       "              dtype='datetime64[ns]', freq='W-MON')"
      ]
     },
     "execution_count": 45,
     "metadata": {},
     "output_type": "execute_result"
    }
   ],
   "source": [
    "# start on Monday\n",
    "pd.date_range('2018-01-01', '2018-03-13', freq=\"W-MON\")"
   ]
  },
  {
   "cell_type": "code",
   "execution_count": 46,
   "metadata": {},
   "outputs": [
    {
     "data": {
      "text/plain": [
       "DatetimeIndex(['2018-01-01 00:00:00', '2018-01-01 01:00:00',\n",
       "               '2018-01-01 02:00:00', '2018-01-01 03:00:00',\n",
       "               '2018-01-01 04:00:00', '2018-01-01 05:00:00',\n",
       "               '2018-01-01 06:00:00', '2018-01-01 07:00:00',\n",
       "               '2018-01-01 08:00:00', '2018-01-01 09:00:00',\n",
       "               '2018-01-01 10:00:00', '2018-01-01 11:00:00',\n",
       "               '2018-01-01 12:00:00', '2018-01-01 13:00:00',\n",
       "               '2018-01-01 14:00:00', '2018-01-01 15:00:00',\n",
       "               '2018-01-01 16:00:00', '2018-01-01 17:00:00',\n",
       "               '2018-01-01 18:00:00', '2018-01-01 19:00:00',\n",
       "               '2018-01-01 20:00:00', '2018-01-01 21:00:00',\n",
       "               '2018-01-01 22:00:00', '2018-01-01 23:00:00',\n",
       "               '2018-01-02 00:00:00'],\n",
       "              dtype='datetime64[ns]', freq='H')"
      ]
     },
     "execution_count": 46,
     "metadata": {},
     "output_type": "execute_result"
    }
   ],
   "source": [
    "# by Hour\n",
    "pd.date_range('2018-01-01', '2018-01-02', freq=\"H\")"
   ]
  },
  {
   "cell_type": "code",
   "execution_count": 47,
   "metadata": {},
   "outputs": [
    {
     "data": {
      "text/plain": [
       "DatetimeIndex(['2018-01-31', '2018-02-28'], dtype='datetime64[ns]', freq='M')"
      ]
     },
     "execution_count": 47,
     "metadata": {},
     "output_type": "execute_result"
    }
   ],
   "source": [
    "# Month End\n",
    "pd.date_range('2018-01-01', '2018-03-13', freq=\"M\")"
   ]
  },
  {
   "cell_type": "code",
   "execution_count": 48,
   "metadata": {},
   "outputs": [
    {
     "data": {
      "text/plain": [
       "DatetimeIndex(['2018-01-01', '2018-02-01', '2018-03-01'], dtype='datetime64[ns]', freq='MS')"
      ]
     },
     "execution_count": 48,
     "metadata": {},
     "output_type": "execute_result"
    }
   ],
   "source": [
    "# Month Start\n",
    "pd.date_range('2018-01-01', '2018-03-13', freq=\"MS\")"
   ]
  },
  {
   "cell_type": "code",
   "execution_count": 50,
   "metadata": {},
   "outputs": [
    {
     "data": {
      "text/plain": [
       "DatetimeIndex(['2018-12-31', '2019-12-31', '2020-12-31', '2021-12-31'], dtype='datetime64[ns]', freq='A-DEC')"
      ]
     },
     "execution_count": 50,
     "metadata": {},
     "output_type": "execute_result"
    }
   ],
   "source": [
    "# Last Day of each Year\n",
    "pd.date_range('2018-01-01', '2022-03-13', freq=\"A\")"
   ]
  },
  {
   "cell_type": "code",
   "execution_count": 52,
   "metadata": {},
   "outputs": [
    {
     "data": {
      "text/plain": [
       "DatetimeIndex(['2018-01-31', '2019-01-31', '2020-01-31', '2021-01-31',\n",
       "               '2022-01-31'],\n",
       "              dtype='datetime64[ns]', freq='A-JAN')"
      ]
     },
     "execution_count": 52,
     "metadata": {},
     "output_type": "execute_result"
    }
   ],
   "source": [
    "# Month End starting with Jan\n",
    "pd.date_range('2018-01-01', '2022-03-13', freq=\"A-JAN\")"
   ]
  },
  {
   "cell_type": "markdown",
   "metadata": {},
   "source": [
    "## date_range() with period"
   ]
  },
  {
   "cell_type": "code",
   "execution_count": 55,
   "metadata": {},
   "outputs": [
    {
     "data": {
      "text/plain": [
       "DatetimeIndex(['2018-01-01', '2018-01-08', '2018-01-15'], dtype='datetime64[ns]', freq='W-MON')"
      ]
     },
     "execution_count": 55,
     "metadata": {},
     "output_type": "execute_result"
    }
   ],
   "source": [
    "pd.date_range('2018-01-01', periods=3, freq=\"W-MON\")"
   ]
  },
  {
   "cell_type": "code",
   "execution_count": null,
   "metadata": {},
   "outputs": [],
   "source": []
  },
  {
   "cell_type": "code",
   "execution_count": null,
   "metadata": {},
   "outputs": [],
   "source": []
  },
  {
   "cell_type": "code",
   "execution_count": null,
   "metadata": {},
   "outputs": [],
   "source": []
  },
  {
   "cell_type": "code",
   "execution_count": null,
   "metadata": {},
   "outputs": [],
   "source": []
  },
  {
   "cell_type": "code",
   "execution_count": null,
   "metadata": {},
   "outputs": [],
   "source": []
  }
 ],
 "metadata": {
  "kernelspec": {
   "display_name": "Python 3",
   "language": "python",
   "name": "python3"
  },
  "language_info": {
   "codemirror_mode": {
    "name": "ipython",
    "version": 3
   },
   "file_extension": ".py",
   "mimetype": "text/x-python",
   "name": "python",
   "nbconvert_exporter": "python",
   "pygments_lexer": "ipython3",
   "version": "3.7.4"
  }
 },
 "nbformat": 4,
 "nbformat_minor": 4
}
